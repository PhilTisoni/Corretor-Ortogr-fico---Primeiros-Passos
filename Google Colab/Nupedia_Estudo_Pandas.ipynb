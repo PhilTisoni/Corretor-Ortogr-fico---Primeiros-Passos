{
  "nbformat": 4,
  "nbformat_minor": 0,
  "metadata": {
    "colab": {
      "provenance": [],
      "collapsed_sections": [
        "VlQgfvnGc4q7",
        "rKHIG-zZjlgb",
        "vtp6KGTqij1B",
        "yFhGAIlVkVlF",
        "cfpW10JDgnU0",
        "LiTDsdAYlY_s",
        "cF4mLWS9yHmc",
        "QGpnRQMVyQf3",
        "hPtcdozCzPaz",
        "MgqKvg5qncHI",
        "dxi0N0U0oH0X",
        "pkG5L8JUorsK",
        "pyEeWk1npUPH",
        "J4rvhqBqpgPF",
        "RBebgWWZ-WZd",
        "Jk7IYhHEp7mM",
        "aZ4VArflqGX1",
        "eBdaKlikqOvb",
        "IO7duEBJqycJ",
        "KtkjupYorBkJ",
        "FSO8C7TiDpRY",
        "6HfXtI54rnDJ",
        "tms-I0nAr4DA",
        "5YC8yS7ZfwbB"
      ]
    },
    "kernelspec": {
      "name": "python3",
      "display_name": "Python 3"
    },
    "language_info": {
      "name": "python"
    }
  },
  "cells": [
    {
      "cell_type": "markdown",
      "source": [
        "#NúPeDIA - Estudo Sobre Pandas"
      ],
      "metadata": {
        "id": "N0A-bfQCOja_"
      }
    },
    {
      "cell_type": "markdown",
      "source": [
        "<img style = \"100px\" src = \"data:image/jpeg;base64,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\" alt = \"Uninter\"> <img style = \"10px\" src = \"data:image/png;base64,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\" alt = \"Pandas\"> "
      ],
      "metadata": {
        "id": "1zeSrfZcM2qL"
      }
    },
    {
      "cell_type": "markdown",
      "source": [
        "Projeto desenvolvido em 2018 pelo **Núcleo de Pesquisa e Desenolvimento de Inteligência Artificial** (NúPeDIA) da **Uninter**, com o objetivo de construir um corretor ortográfico a partir de estudos sobre PLN (Processamento de Línguagem Natural) e redes neurais."
      ],
      "metadata": {
        "id": "eK0hBRNMOhmb"
      }
    },
    {
      "cell_type": "markdown",
      "source": [
        "Esse notebook foi escrito para introduzir os alunos iniciantes sobre os primeiros passos de **Pandas** e outras técnicas de manipulação de dados, sendo uma releitura e tradução do livro [Natural Language Processing With Python](http://www.nltk.org/book \"Livro Natural Language Processing With Python\")."
      ],
      "metadata": {
        "id": "HbZBJJw-RZj3"
      }
    },
    {
      "cell_type": "markdown",
      "source": [
        "##Introdução\n",
        "\n",
        "\n"
      ],
      "metadata": {
        "id": "VlQgfvnGc4q7"
      }
    },
    {
      "cell_type": "markdown",
      "source": [
        "###Definição"
      ],
      "metadata": {
        "id": "rKHIG-zZjlgb"
      }
    },
    {
      "cell_type": "markdown",
      "source": [
        "Pandas (Panel Datas) é uma **biblioteca** que possibilita a análise e manipulação de dados estruturados , sendo muito utilizada na programação científica e em Machine Learn, por se tratar de ferramentas práticas e que não necessitam de outras linguagens como o R. "
      ],
      "metadata": {
        "id": "NfmBPW_FkOor"
      }
    },
    {
      "cell_type": "markdown",
      "source": [
        "Diferente do **NumPy**, o Pandas **não faz parte da instalação padrão do Python**, porém, quando utilizamos o **Anaconda**, ele é instalado automaticamente. "
      ],
      "metadata": {
        "id": "52c0dUB4uiTN"
      }
    },
    {
      "cell_type": "markdown",
      "source": [
        "###Aplicações"
      ],
      "metadata": {
        "id": "vtp6KGTqij1B"
      }
    },
    {
      "cell_type": "markdown",
      "source": [
        "1.   **Manipulação de Dados:** Através de Time Series ou Data Frames, de forma rápida, ágil e com indexação integrada. \n",
        "\n",
        "2.   **Análise de Dados:** Ler, escrever, alinhar, marcar, fatiar (slicing), agrupar, unir, concatenar, fazer histogramas, correlações e diversas outras funções.\n",
        "\n",
        "3.   **Áreas de Aplicação:** Mercado financeiro, Neurociência,  Economia, Estatística, Publicidade e muito mais."
      ],
      "metadata": {
        "id": "91Rs7q6Zswe0"
      }
    },
    {
      "cell_type": "markdown",
      "source": [
        "###Como Importar o Pandas"
      ],
      "metadata": {
        "id": "yFhGAIlVkVlF"
      }
    },
    {
      "cell_type": "markdown",
      "source": [
        "Para utilizar o Pandas, é necessário importar a sua biblioteca:"
      ],
      "metadata": {
        "id": "2r1E3uRpkl2F"
      }
    },
    {
      "cell_type": "code",
      "source": [
        "import pandas as pd"
      ],
      "metadata": {
        "id": "apQj1aG2krM7"
      },
      "execution_count": 1,
      "outputs": []
    },
    {
      "cell_type": "markdown",
      "source": [
        "Também é possível importar somente uma **Série** ou **Data Frame**:"
      ],
      "metadata": {
        "id": "yIHX8XbHk1XL"
      }
    },
    {
      "cell_type": "code",
      "source": [
        "from pandas import Series"
      ],
      "metadata": {
        "id": "4LeUqZjJk676"
      },
      "execution_count": 2,
      "outputs": []
    },
    {
      "cell_type": "code",
      "source": [
        "from pandas import DataFrame"
      ],
      "metadata": {
        "id": "BLfHUqNllSdV"
      },
      "execution_count": 3,
      "outputs": []
    },
    {
      "cell_type": "markdown",
      "source": [
        "##Conceitos"
      ],
      "metadata": {
        "id": "cfpW10JDgnU0"
      }
    },
    {
      "cell_type": "markdown",
      "source": [
        "###Series"
      ],
      "metadata": {
        "id": "LiTDsdAYlY_s"
      }
    },
    {
      "cell_type": "markdown",
      "source": [
        "####Introdução"
      ],
      "metadata": {
        "id": "G33-iNWQx_vO"
      }
    },
    {
      "cell_type": "markdown",
      "source": [
        "É um array unidimensional que contém um array de dados e um array de labels, chamado **índices** ou **index**."
      ],
      "metadata": {
        "id": "lWJeSEMZlfOp"
      }
    },
    {
      "cell_type": "code",
      "source": [
        "from pandas import Series #Lembrando que poderia ser usado import pandas as pd"
      ],
      "metadata": {
        "id": "PL-uQaD3llWg"
      },
      "execution_count": 4,
      "outputs": []
    },
    {
      "cell_type": "markdown",
      "source": [
        "Para demonstração, vamos utilizar o método **Series()** e como parâmetros os valores que queremos criar dentro da série"
      ],
      "metadata": {
        "id": "QdNuAsGGl7f7"
      }
    },
    {
      "cell_type": "code",
      "source": [
        "obj = Series([1, 2, 3, 4, 5])  #Criando série sem especificar os índices."
      ],
      "metadata": {
        "id": "ZjZ87GD7mDoF"
      },
      "execution_count": 5,
      "outputs": []
    },
    {
      "cell_type": "markdown",
      "source": [
        "Na primeira coluna temos os **índices** criados automaticamente e na segunda os valores usados como parâmetros."
      ],
      "metadata": {
        "id": "yKE4XS_VmJy6"
      }
    },
    {
      "cell_type": "code",
      "source": [
        "obj   #Imprime a série"
      ],
      "metadata": {
        "colab": {
          "base_uri": "https://localhost:8080/"
        },
        "id": "onyxwOkkmQ7D",
        "outputId": "b195a02c-20fe-4bdd-803b-c530821fadbc"
      },
      "execution_count": 6,
      "outputs": [
        {
          "output_type": "execute_result",
          "data": {
            "text/plain": [
              "0    1\n",
              "1    2\n",
              "2    3\n",
              "3    4\n",
              "4    5\n",
              "dtype: int64"
            ]
          },
          "metadata": {},
          "execution_count": 6
        }
      ]
    },
    {
      "cell_type": "markdown",
      "source": [
        "Podemos analisar que **obj** é do tipo **Series** pertencendo ao **Pandas**"
      ],
      "metadata": {
        "id": "O6dccwgZmZ48"
      }
    },
    {
      "cell_type": "code",
      "source": [
        "type(obj)"
      ],
      "metadata": {
        "colab": {
          "base_uri": "https://localhost:8080/"
        },
        "id": "Ll4_-QWQmWCy",
        "outputId": "51445811-59aa-4852-a445-2e5716ea81c4"
      },
      "execution_count": 7,
      "outputs": [
        {
          "output_type": "execute_result",
          "data": {
            "text/plain": [
              "pandas.core.series.Series"
            ]
          },
          "metadata": {},
          "execution_count": 7
        }
      ]
    },
    {
      "cell_type": "markdown",
      "source": [
        "Também podemos exibir os valores dos parâmetros escolhidos"
      ],
      "metadata": {
        "id": "fgWbUm65mkxm"
      }
    },
    {
      "cell_type": "code",
      "source": [
        "obj.values"
      ],
      "metadata": {
        "colab": {
          "base_uri": "https://localhost:8080/"
        },
        "id": "9ah4H679mhD0",
        "outputId": "67865ba4-33e2-4553-80cd-410ede2a390f"
      },
      "execution_count": 8,
      "outputs": [
        {
          "output_type": "execute_result",
          "data": {
            "text/plain": [
              "array([1, 2, 3, 4, 5])"
            ]
          },
          "metadata": {},
          "execution_count": 8
        }
      ]
    },
    {
      "cell_type": "markdown",
      "source": [
        "Percebe-se que os índices são uma série de dados que começam em 0, finalizam em 5 (esse número é o limite e não é contabilizado), com intervalo de 1 em 1."
      ],
      "metadata": {
        "id": "Qpce4_Bgmrph"
      }
    },
    {
      "cell_type": "code",
      "source": [
        "obj.index"
      ],
      "metadata": {
        "colab": {
          "base_uri": "https://localhost:8080/"
        },
        "id": "-Uftc-1JmiNW",
        "outputId": "2053a609-61b4-4992-aba6-cd4684cc0e88"
      },
      "execution_count": 9,
      "outputs": [
        {
          "output_type": "execute_result",
          "data": {
            "text/plain": [
              "RangeIndex(start=0, stop=5, step=1)"
            ]
          },
          "metadata": {},
          "execution_count": 9
        }
      ]
    },
    {
      "cell_type": "markdown",
      "source": [
        "É possível criar séries especificando os índices:"
      ],
      "metadata": {
        "id": "xWjDfqPWm2oM"
      }
    },
    {
      "cell_type": "code",
      "source": [
        "obj2 = Series([1, 2, 3, 4], index = ['a', 'b', 'c', 'd']) #Trocou-se os valores gerados pelo pandas por letras\n",
        "obj2    #Imprime serie"
      ],
      "metadata": {
        "colab": {
          "base_uri": "https://localhost:8080/"
        },
        "id": "Ac6_dAlOm4Qb",
        "outputId": "73f42cca-8d22-42e6-8a4a-0cac5ca294da"
      },
      "execution_count": 10,
      "outputs": [
        {
          "output_type": "execute_result",
          "data": {
            "text/plain": [
              "a    1\n",
              "b    2\n",
              "c    3\n",
              "d    4\n",
              "dtype: int64"
            ]
          },
          "metadata": {},
          "execution_count": 10
        }
      ]
    },
    {
      "cell_type": "markdown",
      "source": [
        "####Selecionando Dados"
      ],
      "metadata": {
        "id": "cF4mLWS9yHmc"
      }
    },
    {
      "cell_type": "markdown",
      "source": [
        "Podemos fazer a mesma análise anterior para **obj2**. "
      ],
      "metadata": {
        "id": "otTD7pinnGI0"
      }
    },
    {
      "cell_type": "code",
      "source": [
        "type(obj2)"
      ],
      "metadata": {
        "colab": {
          "base_uri": "https://localhost:8080/"
        },
        "id": "i-tDMzO-xVMY",
        "outputId": "f7bd3e7c-6809-4d46-e286-9f030eda729d"
      },
      "execution_count": 11,
      "outputs": [
        {
          "output_type": "execute_result",
          "data": {
            "text/plain": [
              "pandas.core.series.Series"
            ]
          },
          "metadata": {},
          "execution_count": 11
        }
      ]
    },
    {
      "cell_type": "code",
      "source": [
        "obj2.values"
      ],
      "metadata": {
        "colab": {
          "base_uri": "https://localhost:8080/"
        },
        "id": "l1OUYKRQxaPZ",
        "outputId": "8105df21-d3f8-478f-a897-e3e53d00c9f3"
      },
      "execution_count": 12,
      "outputs": [
        {
          "output_type": "execute_result",
          "data": {
            "text/plain": [
              "array([1, 2, 3, 4])"
            ]
          },
          "metadata": {},
          "execution_count": 12
        }
      ]
    },
    {
      "cell_type": "code",
      "source": [
        "obj2.index"
      ],
      "metadata": {
        "colab": {
          "base_uri": "https://localhost:8080/"
        },
        "id": "cqqRiZ77xcLh",
        "outputId": "0f405f33-610e-410d-fcd4-7900b46de6f7"
      },
      "execution_count": 13,
      "outputs": [
        {
          "output_type": "execute_result",
          "data": {
            "text/plain": [
              "Index(['a', 'b', 'c', 'd'], dtype='object')"
            ]
          },
          "metadata": {},
          "execution_count": 13
        }
      ]
    },
    {
      "cell_type": "markdown",
      "source": [
        "Vamos delimitar a visualização dos dados com **técnicas de fatiamento (slice)** de forma simples:"
      ],
      "metadata": {
        "id": "risZGCvSxUAn"
      }
    },
    {
      "cell_type": "code",
      "source": [
        "obj2[obj2 > 3]  #Imprime valores da série obj2 que sejam maiores que 3"
      ],
      "metadata": {
        "colab": {
          "base_uri": "https://localhost:8080/"
        },
        "id": "rQFMzYTrnJhl",
        "outputId": "ff72a74e-d293-4502-aa88-89177e4ad4d2"
      },
      "execution_count": 14,
      "outputs": [
        {
          "output_type": "execute_result",
          "data": {
            "text/plain": [
              "d    4\n",
              "dtype: int64"
            ]
          },
          "metadata": {},
          "execution_count": 14
        }
      ]
    },
    {
      "cell_type": "code",
      "source": [
        "obj2['b']       #Mostra os elementos de uma posição especifica do índice"
      ],
      "metadata": {
        "colab": {
          "base_uri": "https://localhost:8080/"
        },
        "id": "9P6w2Q5RxvHI",
        "outputId": "fce68375-80b6-4be5-a042-d570077d248b"
      },
      "execution_count": 15,
      "outputs": [
        {
          "output_type": "execute_result",
          "data": {
            "text/plain": [
              "2"
            ]
          },
          "metadata": {},
          "execution_count": 15
        }
      ]
    },
    {
      "cell_type": "code",
      "source": [
        "'d' in obj2     #Confere se 'd' existe dentro do obj2 retornando valores de True ou False"
      ],
      "metadata": {
        "colab": {
          "base_uri": "https://localhost:8080/"
        },
        "id": "VOf4LlN2xvuG",
        "outputId": "21cd9dad-b787-471f-a631-6689b8704222"
      },
      "execution_count": 16,
      "outputs": [
        {
          "output_type": "execute_result",
          "data": {
            "text/plain": [
              "True"
            ]
          },
          "metadata": {},
          "execution_count": 16
        }
      ]
    },
    {
      "cell_type": "markdown",
      "source": [
        "####Séries e Dicionários"
      ],
      "metadata": {
        "id": "QGpnRQMVyQf3"
      }
    },
    {
      "cell_type": "markdown",
      "source": [
        "Nós podemoscriar séries utilizando dicionários, a seguir, o elemento entre aspas é considerado uma **palavra-chave** e o número após os : é um **valor** atribuído a ela. Note que as palavras-chaves tornaram-se os índices e os valores são os parâmetros da série."
      ],
      "metadata": {
        "id": "IpiL_uhhnSH4"
      }
    },
    {
      "cell_type": "code",
      "source": [
        "dic = {'Futebol': 5200, 'Tenis': 120, 'Volei': 300} # Futebol (palavra-chave) : 5200 (valor)  \n",
        "obj3 = Series(dic)                                  #Criando série usando um dicionário\n",
        "obj3  "
      ],
      "metadata": {
        "colab": {
          "base_uri": "https://localhost:8080/"
        },
        "id": "Q-omy7l_nV3T",
        "outputId": "5f3225fc-039b-4248-e190-e92373f0c06d"
      },
      "execution_count": 17,
      "outputs": [
        {
          "output_type": "execute_result",
          "data": {
            "text/plain": [
              "Futebol    5200\n",
              "Tenis       120\n",
              "Volei       300\n",
              "dtype: int64"
            ]
          },
          "metadata": {},
          "execution_count": 17
        }
      ]
    },
    {
      "cell_type": "markdown",
      "source": [
        "####Séries e Listas"
      ],
      "metadata": {
        "id": "hPtcdozCzPaz"
      }
    },
    {
      "cell_type": "markdown",
      "source": [
        "O conceito explicado em dicionários também pode ser aplicado para **listas**, porém, ao definir a lista **esportes**, perceba que são listados apenas os valores desejados, sem necessitar da palavra-chave:"
      ],
      "metadata": {
        "id": "jWzrYXb7zTtR"
      }
    },
    {
      "cell_type": "code",
      "source": [
        "dic = {'Futebol': 5200, 'Tenis': 120, 'Volei': 300}\n",
        "esportes = ['Futebol', 'Volei', 'Natação']    #Criando uma lista \n",
        "obj4 = Series(dic, index = esportes)          #Criando uma série e utilizando a lista como índice\n",
        "obj4"
      ],
      "metadata": {
        "colab": {
          "base_uri": "https://localhost:8080/"
        },
        "id": "fl39-MXWyazp",
        "outputId": "f17c2535-fd4c-4f80-a417-32511e9e2af1"
      },
      "execution_count": 18,
      "outputs": [
        {
          "output_type": "execute_result",
          "data": {
            "text/plain": [
              "Futebol    5200.0\n",
              "Volei       300.0\n",
              "Natação       NaN\n",
              "dtype: float64"
            ]
          },
          "metadata": {},
          "execution_count": 18
        }
      ]
    },
    {
      "cell_type": "markdown",
      "source": [
        "Comparando **obj3** com **obj4** percebe-se que existem valores **nulos**, isso ocorre porque os valores da lista não correspondem ao valores do dicionário. É necessário tomar cuidado, pois em alguns casos, os valores nulos podem ajudar ou atrapalhar a análise.\n"
      ],
      "metadata": {
        "id": "f2okzMrNnq--"
      }
    },
    {
      "cell_type": "code",
      "source": [
        "pd.isnull(obj4)      #Confere se existe um valor nulo. Retornando True ou False"
      ],
      "metadata": {
        "colab": {
          "base_uri": "https://localhost:8080/"
        },
        "id": "xLn7jBmNn2ue",
        "outputId": "f4d8eed9-69f5-4467-8390-89024d546615"
      },
      "execution_count": 19,
      "outputs": [
        {
          "output_type": "execute_result",
          "data": {
            "text/plain": [
              "Futebol    False\n",
              "Volei      False\n",
              "Natação     True\n",
              "dtype: bool"
            ]
          },
          "metadata": {},
          "execution_count": 19
        }
      ]
    },
    {
      "cell_type": "code",
      "source": [
        "pd.notnull(obj4)     #Comando inverso, confere se não existe valor nulo. Retorna True ou False"
      ],
      "metadata": {
        "colab": {
          "base_uri": "https://localhost:8080/"
        },
        "id": "1phJ0ezGz2e9",
        "outputId": "17eb5ed7-1410-4883-d506-72a938067a7d"
      },
      "execution_count": 20,
      "outputs": [
        {
          "output_type": "execute_result",
          "data": {
            "text/plain": [
              "Futebol     True\n",
              "Volei       True\n",
              "Natação    False\n",
              "dtype: bool"
            ]
          },
          "metadata": {},
          "execution_count": 20
        }
      ]
    },
    {
      "cell_type": "markdown",
      "source": [
        "Também podemos contabilizar a quantidade de valores nulos"
      ],
      "metadata": {
        "id": "T5FQb812V1n1"
      }
    },
    {
      "cell_type": "code",
      "source": [
        "pd.isnull(obj4).sum() "
      ],
      "metadata": {
        "colab": {
          "base_uri": "https://localhost:8080/"
        },
        "id": "J0XK6f4eV5Hd",
        "outputId": "9ef38515-01c0-460a-e40e-2b32257bdbdb"
      },
      "execution_count": 21,
      "outputs": [
        {
          "output_type": "execute_result",
          "data": {
            "text/plain": [
              "1"
            ]
          },
          "metadata": {},
          "execution_count": 21
        }
      ]
    },
    {
      "cell_type": "markdown",
      "source": [
        "####Operações"
      ],
      "metadata": {
        "id": "MgqKvg5qncHI"
      }
    },
    {
      "cell_type": "markdown",
      "source": [
        "Existem diversas operações que podem ser feitas com listas e dicionários, abaixo, temos alguns exemplos:"
      ],
      "metadata": {
        "id": "GXqFG_jn0df4"
      }
    },
    {
      "cell_type": "code",
      "source": [
        "obj3 + obj4                   #Concatenar duas ou mais séries"
      ],
      "metadata": {
        "colab": {
          "base_uri": "https://localhost:8080/"
        },
        "id": "6Yx-4dzN0mLO",
        "outputId": "ba1dcb19-5858-4fac-af29-d1f64b7b959d"
      },
      "execution_count": 22,
      "outputs": [
        {
          "output_type": "execute_result",
          "data": {
            "text/plain": [
              "Futebol    10400.0\n",
              "Natação        NaN\n",
              "Tenis          NaN\n",
              "Volei        600.0\n",
              "dtype: float64"
            ]
          },
          "metadata": {},
          "execution_count": 22
        }
      ]
    },
    {
      "cell_type": "code",
      "source": [
        "obj4.name = 'populacao'       #Adicionando um nome para a Série\n",
        "obj4"
      ],
      "metadata": {
        "id": "iCIk8SNs0oLp",
        "colab": {
          "base_uri": "https://localhost:8080/"
        },
        "outputId": "45209552-109c-4cd9-a65b-c83edcc8d290"
      },
      "execution_count": 23,
      "outputs": [
        {
          "output_type": "execute_result",
          "data": {
            "text/plain": [
              "Futebol    5200.0\n",
              "Volei       300.0\n",
              "Natação       NaN\n",
              "Name: populacao, dtype: float64"
            ]
          },
          "metadata": {},
          "execution_count": 23
        }
      ]
    },
    {
      "cell_type": "code",
      "source": [
        "obj4.index.name = 'esportes'  #Adicionando nome para o índice\n",
        "obj4"
      ],
      "metadata": {
        "id": "bYtOvAyooCLl",
        "colab": {
          "base_uri": "https://localhost:8080/"
        },
        "outputId": "8cd4540a-6351-4cec-9a65-b4a9077bc3ec"
      },
      "execution_count": 24,
      "outputs": [
        {
          "output_type": "execute_result",
          "data": {
            "text/plain": [
              "esportes\n",
              "Futebol    5200.0\n",
              "Volei       300.0\n",
              "Natação       NaN\n",
              "Name: populacao, dtype: float64"
            ]
          },
          "metadata": {},
          "execution_count": 24
        }
      ]
    },
    {
      "cell_type": "markdown",
      "source": [
        "###Data Frames"
      ],
      "metadata": {
        "id": "dxi0N0U0oH0X"
      }
    },
    {
      "cell_type": "markdown",
      "source": [
        "Data Frames representam uma estrutura tabular semelhante a uma **planilha do Excel**, contendo uma coleção de colunas em que cada uma pode ter um tipo de valor diferente (número, string, etc). Os Data Frames possuem **index** e **linhas** e essa estrutura é muito semelhante em R."
      ],
      "metadata": {
        "id": "pRHnYaN8oN2C"
      }
    },
    {
      "cell_type": "markdown",
      "source": [
        " Os dados de um Data Frame são armazenados em um ou mais blocos bidimensionais, ao invés de listas, dicionários ou alguma outra estrutura de array. Eles são conjuntos de elementos de tipos distintos."
      ],
      "metadata": {
        "id": "S72yuT2f1IPS"
      }
    },
    {
      "cell_type": "code",
      "source": [
        "from pandas import DataFrame"
      ],
      "metadata": {
        "id": "mcEdrsPz1vgW"
      },
      "execution_count": 25,
      "outputs": []
    },
    {
      "cell_type": "markdown",
      "source": [
        "   Vamos demonstrar outra maneira de criar um **dicionário**, através de **chave + lista de valores**:"
      ],
      "metadata": {
        "id": "1VBkhhtr13U0"
      }
    },
    {
      "cell_type": "code",
      "source": [
        "data = {'Estado': ['Paraná', 'Bahia', 'São Paulo'], 'Ano': [1999, 2004, 1995], 'População': [4, 3, 2]}  \n",
        "data"
      ],
      "metadata": {
        "id": "R6EoXgmV1xQE",
        "colab": {
          "base_uri": "https://localhost:8080/"
        },
        "outputId": "2d107bf4-aa35-46aa-9c77-20d2b0d5894f"
      },
      "execution_count": 26,
      "outputs": [
        {
          "output_type": "execute_result",
          "data": {
            "text/plain": [
              "{'Estado': ['Paraná', 'Bahia', 'São Paulo'],\n",
              " 'Ano': [1999, 2004, 1995],\n",
              " 'População': [4, 3, 2]}"
            ]
          },
          "metadata": {},
          "execution_count": 26
        }
      ]
    },
    {
      "cell_type": "markdown",
      "source": [
        "Ao utilizar o método **DataFrame()** passando o dicionário anterior como parâmetro, as **chaves** tornam-se os **títulos da coluna**, os **índices** foram gerados **automaticamente** e os elementos foram adicionados em suas respectivas chaves."
      ],
      "metadata": {
        "id": "D_pLGnIV2MXW"
      }
    },
    {
      "cell_type": "code",
      "source": [
        "frame = DataFrame(data)      #Método DataFrame() usando o dicionário data como parametro\n",
        "frame"
      ],
      "metadata": {
        "colab": {
          "base_uri": "https://localhost:8080/",
          "height": 0
        },
        "id": "lXn9QMOL2EOt",
        "outputId": "cc0e9738-c019-4b50-942e-26394bcb371e"
      },
      "execution_count": 27,
      "outputs": [
        {
          "output_type": "execute_result",
          "data": {
            "text/plain": [
              "      Estado   Ano  População\n",
              "0     Paraná  1999          4\n",
              "1      Bahia  2004          3\n",
              "2  São Paulo  1995          2"
            ],
            "text/html": [
              "\n",
              "  <div id=\"df-b745d223-1cb3-4f20-8a84-8c2bddf523b5\">\n",
              "    <div class=\"colab-df-container\">\n",
              "      <div>\n",
              "<style scoped>\n",
              "    .dataframe tbody tr th:only-of-type {\n",
              "        vertical-align: middle;\n",
              "    }\n",
              "\n",
              "    .dataframe tbody tr th {\n",
              "        vertical-align: top;\n",
              "    }\n",
              "\n",
              "    .dataframe thead th {\n",
              "        text-align: right;\n",
              "    }\n",
              "</style>\n",
              "<table border=\"1\" class=\"dataframe\">\n",
              "  <thead>\n",
              "    <tr style=\"text-align: right;\">\n",
              "      <th></th>\n",
              "      <th>Estado</th>\n",
              "      <th>Ano</th>\n",
              "      <th>População</th>\n",
              "    </tr>\n",
              "  </thead>\n",
              "  <tbody>\n",
              "    <tr>\n",
              "      <th>0</th>\n",
              "      <td>Paraná</td>\n",
              "      <td>1999</td>\n",
              "      <td>4</td>\n",
              "    </tr>\n",
              "    <tr>\n",
              "      <th>1</th>\n",
              "      <td>Bahia</td>\n",
              "      <td>2004</td>\n",
              "      <td>3</td>\n",
              "    </tr>\n",
              "    <tr>\n",
              "      <th>2</th>\n",
              "      <td>São Paulo</td>\n",
              "      <td>1995</td>\n",
              "      <td>2</td>\n",
              "    </tr>\n",
              "  </tbody>\n",
              "</table>\n",
              "</div>\n",
              "      <button class=\"colab-df-convert\" onclick=\"convertToInteractive('df-b745d223-1cb3-4f20-8a84-8c2bddf523b5')\"\n",
              "              title=\"Convert this dataframe to an interactive table.\"\n",
              "              style=\"display:none;\">\n",
              "        \n",
              "  <svg xmlns=\"http://www.w3.org/2000/svg\" height=\"24px\"viewBox=\"0 0 24 24\"\n",
              "       width=\"24px\">\n",
              "    <path d=\"M0 0h24v24H0V0z\" fill=\"none\"/>\n",
              "    <path d=\"M18.56 5.44l.94 2.06.94-2.06 2.06-.94-2.06-.94-.94-2.06-.94 2.06-2.06.94zm-11 1L8.5 8.5l.94-2.06 2.06-.94-2.06-.94L8.5 2.5l-.94 2.06-2.06.94zm10 10l.94 2.06.94-2.06 2.06-.94-2.06-.94-.94-2.06-.94 2.06-2.06.94z\"/><path d=\"M17.41 7.96l-1.37-1.37c-.4-.4-.92-.59-1.43-.59-.52 0-1.04.2-1.43.59L10.3 9.45l-7.72 7.72c-.78.78-.78 2.05 0 2.83L4 21.41c.39.39.9.59 1.41.59.51 0 1.02-.2 1.41-.59l7.78-7.78 2.81-2.81c.8-.78.8-2.07 0-2.86zM5.41 20L4 18.59l7.72-7.72 1.47 1.35L5.41 20z\"/>\n",
              "  </svg>\n",
              "      </button>\n",
              "      \n",
              "  <style>\n",
              "    .colab-df-container {\n",
              "      display:flex;\n",
              "      flex-wrap:wrap;\n",
              "      gap: 12px;\n",
              "    }\n",
              "\n",
              "    .colab-df-convert {\n",
              "      background-color: #E8F0FE;\n",
              "      border: none;\n",
              "      border-radius: 50%;\n",
              "      cursor: pointer;\n",
              "      display: none;\n",
              "      fill: #1967D2;\n",
              "      height: 32px;\n",
              "      padding: 0 0 0 0;\n",
              "      width: 32px;\n",
              "    }\n",
              "\n",
              "    .colab-df-convert:hover {\n",
              "      background-color: #E2EBFA;\n",
              "      box-shadow: 0px 1px 2px rgba(60, 64, 67, 0.3), 0px 1px 3px 1px rgba(60, 64, 67, 0.15);\n",
              "      fill: #174EA6;\n",
              "    }\n",
              "\n",
              "    [theme=dark] .colab-df-convert {\n",
              "      background-color: #3B4455;\n",
              "      fill: #D2E3FC;\n",
              "    }\n",
              "\n",
              "    [theme=dark] .colab-df-convert:hover {\n",
              "      background-color: #434B5C;\n",
              "      box-shadow: 0px 1px 3px 1px rgba(0, 0, 0, 0.15);\n",
              "      filter: drop-shadow(0px 1px 2px rgba(0, 0, 0, 0.3));\n",
              "      fill: #FFFFFF;\n",
              "    }\n",
              "  </style>\n",
              "\n",
              "      <script>\n",
              "        const buttonEl =\n",
              "          document.querySelector('#df-b745d223-1cb3-4f20-8a84-8c2bddf523b5 button.colab-df-convert');\n",
              "        buttonEl.style.display =\n",
              "          google.colab.kernel.accessAllowed ? 'block' : 'none';\n",
              "\n",
              "        async function convertToInteractive(key) {\n",
              "          const element = document.querySelector('#df-b745d223-1cb3-4f20-8a84-8c2bddf523b5');\n",
              "          const dataTable =\n",
              "            await google.colab.kernel.invokeFunction('convertToInteractive',\n",
              "                                                     [key], {});\n",
              "          if (!dataTable) return;\n",
              "\n",
              "          const docLinkHtml = 'Like what you see? Visit the ' +\n",
              "            '<a target=\"_blank\" href=https://colab.research.google.com/notebooks/data_table.ipynb>data table notebook</a>'\n",
              "            + ' to learn more about interactive tables.';\n",
              "          element.innerHTML = '';\n",
              "          dataTable['output_type'] = 'display_data';\n",
              "          await google.colab.output.renderOutput(dataTable, element);\n",
              "          const docLink = document.createElement('div');\n",
              "          docLink.innerHTML = docLinkHtml;\n",
              "          element.appendChild(docLink);\n",
              "        }\n",
              "      </script>\n",
              "    </div>\n",
              "  </div>\n",
              "  "
            ]
          },
          "metadata": {},
          "execution_count": 27
        }
      ]
    },
    {
      "cell_type": "markdown",
      "source": [
        "Para organizar os dados, podemos alterar a ordem das colunas:"
      ],
      "metadata": {
        "id": "xqG1K87E2ZvI"
      }
    },
    {
      "cell_type": "code",
      "source": [
        "DataFrame(data, columns = ['Ano', 'Estado', 'População']) "
      ],
      "metadata": {
        "colab": {
          "base_uri": "https://localhost:8080/",
          "height": 0
        },
        "id": "a5XJcgsCoS-q",
        "outputId": "d26e7ed5-bd4a-4374-ade7-7c18767eff49"
      },
      "execution_count": 28,
      "outputs": [
        {
          "output_type": "execute_result",
          "data": {
            "text/plain": [
              "    Ano     Estado  População\n",
              "0  1999     Paraná          4\n",
              "1  2004      Bahia          3\n",
              "2  1995  São Paulo          2"
            ],
            "text/html": [
              "\n",
              "  <div id=\"df-90d4c0d1-aad3-4429-a571-bf8344a2a0b0\">\n",
              "    <div class=\"colab-df-container\">\n",
              "      <div>\n",
              "<style scoped>\n",
              "    .dataframe tbody tr th:only-of-type {\n",
              "        vertical-align: middle;\n",
              "    }\n",
              "\n",
              "    .dataframe tbody tr th {\n",
              "        vertical-align: top;\n",
              "    }\n",
              "\n",
              "    .dataframe thead th {\n",
              "        text-align: right;\n",
              "    }\n",
              "</style>\n",
              "<table border=\"1\" class=\"dataframe\">\n",
              "  <thead>\n",
              "    <tr style=\"text-align: right;\">\n",
              "      <th></th>\n",
              "      <th>Ano</th>\n",
              "      <th>Estado</th>\n",
              "      <th>População</th>\n",
              "    </tr>\n",
              "  </thead>\n",
              "  <tbody>\n",
              "    <tr>\n",
              "      <th>0</th>\n",
              "      <td>1999</td>\n",
              "      <td>Paraná</td>\n",
              "      <td>4</td>\n",
              "    </tr>\n",
              "    <tr>\n",
              "      <th>1</th>\n",
              "      <td>2004</td>\n",
              "      <td>Bahia</td>\n",
              "      <td>3</td>\n",
              "    </tr>\n",
              "    <tr>\n",
              "      <th>2</th>\n",
              "      <td>1995</td>\n",
              "      <td>São Paulo</td>\n",
              "      <td>2</td>\n",
              "    </tr>\n",
              "  </tbody>\n",
              "</table>\n",
              "</div>\n",
              "      <button class=\"colab-df-convert\" onclick=\"convertToInteractive('df-90d4c0d1-aad3-4429-a571-bf8344a2a0b0')\"\n",
              "              title=\"Convert this dataframe to an interactive table.\"\n",
              "              style=\"display:none;\">\n",
              "        \n",
              "  <svg xmlns=\"http://www.w3.org/2000/svg\" height=\"24px\"viewBox=\"0 0 24 24\"\n",
              "       width=\"24px\">\n",
              "    <path d=\"M0 0h24v24H0V0z\" fill=\"none\"/>\n",
              "    <path d=\"M18.56 5.44l.94 2.06.94-2.06 2.06-.94-2.06-.94-.94-2.06-.94 2.06-2.06.94zm-11 1L8.5 8.5l.94-2.06 2.06-.94-2.06-.94L8.5 2.5l-.94 2.06-2.06.94zm10 10l.94 2.06.94-2.06 2.06-.94-2.06-.94-.94-2.06-.94 2.06-2.06.94z\"/><path d=\"M17.41 7.96l-1.37-1.37c-.4-.4-.92-.59-1.43-.59-.52 0-1.04.2-1.43.59L10.3 9.45l-7.72 7.72c-.78.78-.78 2.05 0 2.83L4 21.41c.39.39.9.59 1.41.59.51 0 1.02-.2 1.41-.59l7.78-7.78 2.81-2.81c.8-.78.8-2.07 0-2.86zM5.41 20L4 18.59l7.72-7.72 1.47 1.35L5.41 20z\"/>\n",
              "  </svg>\n",
              "      </button>\n",
              "      \n",
              "  <style>\n",
              "    .colab-df-container {\n",
              "      display:flex;\n",
              "      flex-wrap:wrap;\n",
              "      gap: 12px;\n",
              "    }\n",
              "\n",
              "    .colab-df-convert {\n",
              "      background-color: #E8F0FE;\n",
              "      border: none;\n",
              "      border-radius: 50%;\n",
              "      cursor: pointer;\n",
              "      display: none;\n",
              "      fill: #1967D2;\n",
              "      height: 32px;\n",
              "      padding: 0 0 0 0;\n",
              "      width: 32px;\n",
              "    }\n",
              "\n",
              "    .colab-df-convert:hover {\n",
              "      background-color: #E2EBFA;\n",
              "      box-shadow: 0px 1px 2px rgba(60, 64, 67, 0.3), 0px 1px 3px 1px rgba(60, 64, 67, 0.15);\n",
              "      fill: #174EA6;\n",
              "    }\n",
              "\n",
              "    [theme=dark] .colab-df-convert {\n",
              "      background-color: #3B4455;\n",
              "      fill: #D2E3FC;\n",
              "    }\n",
              "\n",
              "    [theme=dark] .colab-df-convert:hover {\n",
              "      background-color: #434B5C;\n",
              "      box-shadow: 0px 1px 3px 1px rgba(0, 0, 0, 0.15);\n",
              "      filter: drop-shadow(0px 1px 2px rgba(0, 0, 0, 0.3));\n",
              "      fill: #FFFFFF;\n",
              "    }\n",
              "  </style>\n",
              "\n",
              "      <script>\n",
              "        const buttonEl =\n",
              "          document.querySelector('#df-90d4c0d1-aad3-4429-a571-bf8344a2a0b0 button.colab-df-convert');\n",
              "        buttonEl.style.display =\n",
              "          google.colab.kernel.accessAllowed ? 'block' : 'none';\n",
              "\n",
              "        async function convertToInteractive(key) {\n",
              "          const element = document.querySelector('#df-90d4c0d1-aad3-4429-a571-bf8344a2a0b0');\n",
              "          const dataTable =\n",
              "            await google.colab.kernel.invokeFunction('convertToInteractive',\n",
              "                                                     [key], {});\n",
              "          if (!dataTable) return;\n",
              "\n",
              "          const docLinkHtml = 'Like what you see? Visit the ' +\n",
              "            '<a target=\"_blank\" href=https://colab.research.google.com/notebooks/data_table.ipynb>data table notebook</a>'\n",
              "            + ' to learn more about interactive tables.';\n",
              "          element.innerHTML = '';\n",
              "          dataTable['output_type'] = 'display_data';\n",
              "          await google.colab.output.renderOutput(dataTable, element);\n",
              "          const docLink = document.createElement('div');\n",
              "          docLink.innerHTML = docLinkHtml;\n",
              "          element.appendChild(docLink);\n",
              "        }\n",
              "      </script>\n",
              "    </div>\n",
              "  </div>\n",
              "  "
            ]
          },
          "metadata": {},
          "execution_count": 28
        }
      ]
    },
    {
      "cell_type": "markdown",
      "source": [
        "Agora vamos adicionar uma coluna, perceba que trocou-se as **labels** (rótulos) do **index**."
      ],
      "metadata": {
        "id": "FUgzwYDVoi_X"
      }
    },
    {
      "cell_type": "code",
      "source": [
        "frame2 =  DataFrame(data, columns = ['Ano', 'Estado', 'População', 'Débito'], index = ['um', 'dois','tres'])\n",
        "frame2"
      ],
      "metadata": {
        "colab": {
          "base_uri": "https://localhost:8080/",
          "height": 0
        },
        "id": "vLJpsKB33AwZ",
        "outputId": "32981842-1d26-4b67-b3f7-0915cb42a69f"
      },
      "execution_count": 29,
      "outputs": [
        {
          "output_type": "execute_result",
          "data": {
            "text/plain": [
              "       Ano     Estado  População Débito\n",
              "um    1999     Paraná          4    NaN\n",
              "dois  2004      Bahia          3    NaN\n",
              "tres  1995  São Paulo          2    NaN"
            ],
            "text/html": [
              "\n",
              "  <div id=\"df-4ca52cdc-d667-44d2-8947-d15882fa6007\">\n",
              "    <div class=\"colab-df-container\">\n",
              "      <div>\n",
              "<style scoped>\n",
              "    .dataframe tbody tr th:only-of-type {\n",
              "        vertical-align: middle;\n",
              "    }\n",
              "\n",
              "    .dataframe tbody tr th {\n",
              "        vertical-align: top;\n",
              "    }\n",
              "\n",
              "    .dataframe thead th {\n",
              "        text-align: right;\n",
              "    }\n",
              "</style>\n",
              "<table border=\"1\" class=\"dataframe\">\n",
              "  <thead>\n",
              "    <tr style=\"text-align: right;\">\n",
              "      <th></th>\n",
              "      <th>Ano</th>\n",
              "      <th>Estado</th>\n",
              "      <th>População</th>\n",
              "      <th>Débito</th>\n",
              "    </tr>\n",
              "  </thead>\n",
              "  <tbody>\n",
              "    <tr>\n",
              "      <th>um</th>\n",
              "      <td>1999</td>\n",
              "      <td>Paraná</td>\n",
              "      <td>4</td>\n",
              "      <td>NaN</td>\n",
              "    </tr>\n",
              "    <tr>\n",
              "      <th>dois</th>\n",
              "      <td>2004</td>\n",
              "      <td>Bahia</td>\n",
              "      <td>3</td>\n",
              "      <td>NaN</td>\n",
              "    </tr>\n",
              "    <tr>\n",
              "      <th>tres</th>\n",
              "      <td>1995</td>\n",
              "      <td>São Paulo</td>\n",
              "      <td>2</td>\n",
              "      <td>NaN</td>\n",
              "    </tr>\n",
              "  </tbody>\n",
              "</table>\n",
              "</div>\n",
              "      <button class=\"colab-df-convert\" onclick=\"convertToInteractive('df-4ca52cdc-d667-44d2-8947-d15882fa6007')\"\n",
              "              title=\"Convert this dataframe to an interactive table.\"\n",
              "              style=\"display:none;\">\n",
              "        \n",
              "  <svg xmlns=\"http://www.w3.org/2000/svg\" height=\"24px\"viewBox=\"0 0 24 24\"\n",
              "       width=\"24px\">\n",
              "    <path d=\"M0 0h24v24H0V0z\" fill=\"none\"/>\n",
              "    <path d=\"M18.56 5.44l.94 2.06.94-2.06 2.06-.94-2.06-.94-.94-2.06-.94 2.06-2.06.94zm-11 1L8.5 8.5l.94-2.06 2.06-.94-2.06-.94L8.5 2.5l-.94 2.06-2.06.94zm10 10l.94 2.06.94-2.06 2.06-.94-2.06-.94-.94-2.06-.94 2.06-2.06.94z\"/><path d=\"M17.41 7.96l-1.37-1.37c-.4-.4-.92-.59-1.43-.59-.52 0-1.04.2-1.43.59L10.3 9.45l-7.72 7.72c-.78.78-.78 2.05 0 2.83L4 21.41c.39.39.9.59 1.41.59.51 0 1.02-.2 1.41-.59l7.78-7.78 2.81-2.81c.8-.78.8-2.07 0-2.86zM5.41 20L4 18.59l7.72-7.72 1.47 1.35L5.41 20z\"/>\n",
              "  </svg>\n",
              "      </button>\n",
              "      \n",
              "  <style>\n",
              "    .colab-df-container {\n",
              "      display:flex;\n",
              "      flex-wrap:wrap;\n",
              "      gap: 12px;\n",
              "    }\n",
              "\n",
              "    .colab-df-convert {\n",
              "      background-color: #E8F0FE;\n",
              "      border: none;\n",
              "      border-radius: 50%;\n",
              "      cursor: pointer;\n",
              "      display: none;\n",
              "      fill: #1967D2;\n",
              "      height: 32px;\n",
              "      padding: 0 0 0 0;\n",
              "      width: 32px;\n",
              "    }\n",
              "\n",
              "    .colab-df-convert:hover {\n",
              "      background-color: #E2EBFA;\n",
              "      box-shadow: 0px 1px 2px rgba(60, 64, 67, 0.3), 0px 1px 3px 1px rgba(60, 64, 67, 0.15);\n",
              "      fill: #174EA6;\n",
              "    }\n",
              "\n",
              "    [theme=dark] .colab-df-convert {\n",
              "      background-color: #3B4455;\n",
              "      fill: #D2E3FC;\n",
              "    }\n",
              "\n",
              "    [theme=dark] .colab-df-convert:hover {\n",
              "      background-color: #434B5C;\n",
              "      box-shadow: 0px 1px 3px 1px rgba(0, 0, 0, 0.15);\n",
              "      filter: drop-shadow(0px 1px 2px rgba(0, 0, 0, 0.3));\n",
              "      fill: #FFFFFF;\n",
              "    }\n",
              "  </style>\n",
              "\n",
              "      <script>\n",
              "        const buttonEl =\n",
              "          document.querySelector('#df-4ca52cdc-d667-44d2-8947-d15882fa6007 button.colab-df-convert');\n",
              "        buttonEl.style.display =\n",
              "          google.colab.kernel.accessAllowed ? 'block' : 'none';\n",
              "\n",
              "        async function convertToInteractive(key) {\n",
              "          const element = document.querySelector('#df-4ca52cdc-d667-44d2-8947-d15882fa6007');\n",
              "          const dataTable =\n",
              "            await google.colab.kernel.invokeFunction('convertToInteractive',\n",
              "                                                     [key], {});\n",
              "          if (!dataTable) return;\n",
              "\n",
              "          const docLinkHtml = 'Like what you see? Visit the ' +\n",
              "            '<a target=\"_blank\" href=https://colab.research.google.com/notebooks/data_table.ipynb>data table notebook</a>'\n",
              "            + ' to learn more about interactive tables.';\n",
              "          element.innerHTML = '';\n",
              "          dataTable['output_type'] = 'display_data';\n",
              "          await google.colab.output.renderOutput(dataTable, element);\n",
              "          const docLink = document.createElement('div');\n",
              "          docLink.innerHTML = docLinkHtml;\n",
              "          element.appendChild(docLink);\n",
              "        }\n",
              "      </script>\n",
              "    </div>\n",
              "  </div>\n",
              "  "
            ]
          },
          "metadata": {},
          "execution_count": 29
        }
      ]
    },
    {
      "cell_type": "markdown",
      "source": [
        "Para deixar mais explícito, veja a coluna adicionada."
      ],
      "metadata": {
        "id": "zjdLGvnd3KzQ"
      }
    },
    {
      "cell_type": "code",
      "source": [
        "frame2['Débito']  #Usando Slice (Fatiamento) e mostrando apenas a coluna Débito"
      ],
      "metadata": {
        "colab": {
          "base_uri": "https://localhost:8080/"
        },
        "id": "vE4kY2OJocGR",
        "outputId": "d8e27578-f346-4cf7-d71c-4e44645a4161"
      },
      "execution_count": 30,
      "outputs": [
        {
          "output_type": "execute_result",
          "data": {
            "text/plain": [
              "um      NaN\n",
              "dois    NaN\n",
              "tres    NaN\n",
              "Name: Débito, dtype: object"
            ]
          },
          "metadata": {},
          "execution_count": 30
        }
      ]
    },
    {
      "cell_type": "markdown",
      "source": [
        "###Numpy e Pandas"
      ],
      "metadata": {
        "id": "pkG5L8JUorsK"
      }
    },
    {
      "cell_type": "markdown",
      "source": [
        "Para completar as colunas que ficaram vazias, importaremos o **NumPy**:"
      ],
      "metadata": {
        "id": "awyR-ExyowAQ"
      }
    },
    {
      "cell_type": "code",
      "source": [
        "import numpy as np"
      ],
      "metadata": {
        "id": "G_-gX8Nro0q5"
      },
      "execution_count": 31,
      "outputs": []
    },
    {
      "cell_type": "markdown",
      "source": [
        "Cada coluna do Data Frame é um array unidimensional, nesse caso, criaremos um **array** (conjunto de elementos do mesmo tipo) utilizando o numpy, selecionando a coluna que será preenchida."
      ],
      "metadata": {
        "id": "Fe5Zo-wjo275"
      }
    },
    {
      "cell_type": "markdown",
      "source": [
        "O método **arange()** cria um array com um tamanho específicado, nesse caso, selecionamos 3 posições."
      ],
      "metadata": {
        "id": "6r8vJSVl4wXJ"
      }
    },
    {
      "cell_type": "code",
      "source": [
        "frame2['Débito'] = np. arange(3.)\n",
        "frame2['Débito']"
      ],
      "metadata": {
        "id": "YduE3fwmo-Cz",
        "colab": {
          "base_uri": "https://localhost:8080/"
        },
        "outputId": "5b8d967a-6b25-44e9-bf10-330f7ee95d58"
      },
      "execution_count": 32,
      "outputs": [
        {
          "output_type": "execute_result",
          "data": {
            "text/plain": [
              "um      0.0\n",
              "dois    1.0\n",
              "tres    2.0\n",
              "Name: Débito, dtype: float64"
            ]
          },
          "metadata": {},
          "execution_count": 32
        }
      ]
    },
    {
      "cell_type": "markdown",
      "source": [
        "Assim como explicado antes, também é possível verificar o tipo do Data Frame, selecionar colunas de modo simples, selecionar linhas, dentre muitas outras opções:"
      ],
      "metadata": {
        "id": "uMt9re7b5Tl9"
      }
    },
    {
      "cell_type": "code",
      "source": [
        "frame2.dtypes #Tipos dos dados de um Data Frame"
      ],
      "metadata": {
        "colab": {
          "base_uri": "https://localhost:8080/"
        },
        "id": "Ac9rdfvy4bBr",
        "outputId": "ab1b2660-5f27-4f98-efdf-f2ca643bef90"
      },
      "execution_count": 33,
      "outputs": [
        {
          "output_type": "execute_result",
          "data": {
            "text/plain": [
              "Ano            int64\n",
              "Estado        object\n",
              "População      int64\n",
              "Débito       float64\n",
              "dtype: object"
            ]
          },
          "metadata": {},
          "execution_count": 33
        }
      ]
    },
    {
      "cell_type": "code",
      "source": [
        "frame2['Ano'] #Exibe apenas uma coluna"
      ],
      "metadata": {
        "colab": {
          "base_uri": "https://localhost:8080/"
        },
        "id": "evTBiRnD4ao3",
        "outputId": "22ef797e-a49c-4133-e681-8eedd1036346"
      },
      "execution_count": 34,
      "outputs": [
        {
          "output_type": "execute_result",
          "data": {
            "text/plain": [
              "um      1999\n",
              "dois    2004\n",
              "tres    1995\n",
              "Name: Ano, dtype: int64"
            ]
          },
          "metadata": {},
          "execution_count": 34
        }
      ]
    },
    {
      "cell_type": "code",
      "source": [
        "frame2.Ano    #Outra notação para exibir uma coluna"
      ],
      "metadata": {
        "colab": {
          "base_uri": "https://localhost:8080/"
        },
        "id": "0OK-67R24jia",
        "outputId": "7e9c7719-b102-4026-b2df-d5e2161362b4"
      },
      "execution_count": 35,
      "outputs": [
        {
          "output_type": "execute_result",
          "data": {
            "text/plain": [
              "um      1999\n",
              "dois    2004\n",
              "tres    1995\n",
              "Name: Ano, dtype: int64"
            ]
          },
          "metadata": {},
          "execution_count": 35
        }
      ]
    },
    {
      "cell_type": "code",
      "source": [
        "frame2[:2]    #Selecionando todas as colunas até a linha 2"
      ],
      "metadata": {
        "colab": {
          "base_uri": "https://localhost:8080/",
          "height": 0
        },
        "id": "D_SA-ex14lOO",
        "outputId": "124469da-ae5f-4095-9420-f2cd851c29e7"
      },
      "execution_count": 36,
      "outputs": [
        {
          "output_type": "execute_result",
          "data": {
            "text/plain": [
              "       Ano  Estado  População  Débito\n",
              "um    1999  Paraná          4     0.0\n",
              "dois  2004   Bahia          3     1.0"
            ],
            "text/html": [
              "\n",
              "  <div id=\"df-85b998c0-eca5-484d-ae9f-97fc19d9111a\">\n",
              "    <div class=\"colab-df-container\">\n",
              "      <div>\n",
              "<style scoped>\n",
              "    .dataframe tbody tr th:only-of-type {\n",
              "        vertical-align: middle;\n",
              "    }\n",
              "\n",
              "    .dataframe tbody tr th {\n",
              "        vertical-align: top;\n",
              "    }\n",
              "\n",
              "    .dataframe thead th {\n",
              "        text-align: right;\n",
              "    }\n",
              "</style>\n",
              "<table border=\"1\" class=\"dataframe\">\n",
              "  <thead>\n",
              "    <tr style=\"text-align: right;\">\n",
              "      <th></th>\n",
              "      <th>Ano</th>\n",
              "      <th>Estado</th>\n",
              "      <th>População</th>\n",
              "      <th>Débito</th>\n",
              "    </tr>\n",
              "  </thead>\n",
              "  <tbody>\n",
              "    <tr>\n",
              "      <th>um</th>\n",
              "      <td>1999</td>\n",
              "      <td>Paraná</td>\n",
              "      <td>4</td>\n",
              "      <td>0.0</td>\n",
              "    </tr>\n",
              "    <tr>\n",
              "      <th>dois</th>\n",
              "      <td>2004</td>\n",
              "      <td>Bahia</td>\n",
              "      <td>3</td>\n",
              "      <td>1.0</td>\n",
              "    </tr>\n",
              "  </tbody>\n",
              "</table>\n",
              "</div>\n",
              "      <button class=\"colab-df-convert\" onclick=\"convertToInteractive('df-85b998c0-eca5-484d-ae9f-97fc19d9111a')\"\n",
              "              title=\"Convert this dataframe to an interactive table.\"\n",
              "              style=\"display:none;\">\n",
              "        \n",
              "  <svg xmlns=\"http://www.w3.org/2000/svg\" height=\"24px\"viewBox=\"0 0 24 24\"\n",
              "       width=\"24px\">\n",
              "    <path d=\"M0 0h24v24H0V0z\" fill=\"none\"/>\n",
              "    <path d=\"M18.56 5.44l.94 2.06.94-2.06 2.06-.94-2.06-.94-.94-2.06-.94 2.06-2.06.94zm-11 1L8.5 8.5l.94-2.06 2.06-.94-2.06-.94L8.5 2.5l-.94 2.06-2.06.94zm10 10l.94 2.06.94-2.06 2.06-.94-2.06-.94-.94-2.06-.94 2.06-2.06.94z\"/><path d=\"M17.41 7.96l-1.37-1.37c-.4-.4-.92-.59-1.43-.59-.52 0-1.04.2-1.43.59L10.3 9.45l-7.72 7.72c-.78.78-.78 2.05 0 2.83L4 21.41c.39.39.9.59 1.41.59.51 0 1.02-.2 1.41-.59l7.78-7.78 2.81-2.81c.8-.78.8-2.07 0-2.86zM5.41 20L4 18.59l7.72-7.72 1.47 1.35L5.41 20z\"/>\n",
              "  </svg>\n",
              "      </button>\n",
              "      \n",
              "  <style>\n",
              "    .colab-df-container {\n",
              "      display:flex;\n",
              "      flex-wrap:wrap;\n",
              "      gap: 12px;\n",
              "    }\n",
              "\n",
              "    .colab-df-convert {\n",
              "      background-color: #E8F0FE;\n",
              "      border: none;\n",
              "      border-radius: 50%;\n",
              "      cursor: pointer;\n",
              "      display: none;\n",
              "      fill: #1967D2;\n",
              "      height: 32px;\n",
              "      padding: 0 0 0 0;\n",
              "      width: 32px;\n",
              "    }\n",
              "\n",
              "    .colab-df-convert:hover {\n",
              "      background-color: #E2EBFA;\n",
              "      box-shadow: 0px 1px 2px rgba(60, 64, 67, 0.3), 0px 1px 3px 1px rgba(60, 64, 67, 0.15);\n",
              "      fill: #174EA6;\n",
              "    }\n",
              "\n",
              "    [theme=dark] .colab-df-convert {\n",
              "      background-color: #3B4455;\n",
              "      fill: #D2E3FC;\n",
              "    }\n",
              "\n",
              "    [theme=dark] .colab-df-convert:hover {\n",
              "      background-color: #434B5C;\n",
              "      box-shadow: 0px 1px 3px 1px rgba(0, 0, 0, 0.15);\n",
              "      filter: drop-shadow(0px 1px 2px rgba(0, 0, 0, 0.3));\n",
              "      fill: #FFFFFF;\n",
              "    }\n",
              "  </style>\n",
              "\n",
              "      <script>\n",
              "        const buttonEl =\n",
              "          document.querySelector('#df-85b998c0-eca5-484d-ae9f-97fc19d9111a button.colab-df-convert');\n",
              "        buttonEl.style.display =\n",
              "          google.colab.kernel.accessAllowed ? 'block' : 'none';\n",
              "\n",
              "        async function convertToInteractive(key) {\n",
              "          const element = document.querySelector('#df-85b998c0-eca5-484d-ae9f-97fc19d9111a');\n",
              "          const dataTable =\n",
              "            await google.colab.kernel.invokeFunction('convertToInteractive',\n",
              "                                                     [key], {});\n",
              "          if (!dataTable) return;\n",
              "\n",
              "          const docLinkHtml = 'Like what you see? Visit the ' +\n",
              "            '<a target=\"_blank\" href=https://colab.research.google.com/notebooks/data_table.ipynb>data table notebook</a>'\n",
              "            + ' to learn more about interactive tables.';\n",
              "          element.innerHTML = '';\n",
              "          dataTable['output_type'] = 'display_data';\n",
              "          await google.colab.output.renderOutput(dataTable, element);\n",
              "          const docLink = document.createElement('div');\n",
              "          docLink.innerHTML = docLinkHtml;\n",
              "          element.appendChild(docLink);\n",
              "        }\n",
              "      </script>\n",
              "    </div>\n",
              "  </div>\n",
              "  "
            ]
          },
          "metadata": {},
          "execution_count": 36
        }
      ]
    },
    {
      "cell_type": "markdown",
      "source": [
        "###Manipulando o Data Frame"
      ],
      "metadata": {
        "id": "pyEeWk1npUPH"
      }
    },
    {
      "cell_type": "markdown",
      "source": [
        "Vamos aplicar alguns conceitos de seleção e apresentação de dados, inicialmente, vamos utilizar um dicionário:"
      ],
      "metadata": {
        "id": "slRRxtKUpERD"
      }
    },
    {
      "cell_type": "code",
      "source": [
        "dic2 = {'Dias':[1, 2, 3, 4], 'Visitantes':[12, 13, 14, 15], 'Taxas': [10, 5, 20, 15]}\n",
        "df = pd.DataFrame(dic2)\n",
        "df"
      ],
      "metadata": {
        "colab": {
          "base_uri": "https://localhost:8080/",
          "height": 0
        },
        "id": "zWntjm8xpIEr",
        "outputId": "ebd6b5a9-c3e1-455d-99b4-a4281d9e9795"
      },
      "execution_count": 37,
      "outputs": [
        {
          "output_type": "execute_result",
          "data": {
            "text/plain": [
              "   Dias  Visitantes  Taxas\n",
              "0     1          12     10\n",
              "1     2          13      5\n",
              "2     3          14     20\n",
              "3     4          15     15"
            ],
            "text/html": [
              "\n",
              "  <div id=\"df-73338f7e-08ae-4e21-b125-6048c9341558\">\n",
              "    <div class=\"colab-df-container\">\n",
              "      <div>\n",
              "<style scoped>\n",
              "    .dataframe tbody tr th:only-of-type {\n",
              "        vertical-align: middle;\n",
              "    }\n",
              "\n",
              "    .dataframe tbody tr th {\n",
              "        vertical-align: top;\n",
              "    }\n",
              "\n",
              "    .dataframe thead th {\n",
              "        text-align: right;\n",
              "    }\n",
              "</style>\n",
              "<table border=\"1\" class=\"dataframe\">\n",
              "  <thead>\n",
              "    <tr style=\"text-align: right;\">\n",
              "      <th></th>\n",
              "      <th>Dias</th>\n",
              "      <th>Visitantes</th>\n",
              "      <th>Taxas</th>\n",
              "    </tr>\n",
              "  </thead>\n",
              "  <tbody>\n",
              "    <tr>\n",
              "      <th>0</th>\n",
              "      <td>1</td>\n",
              "      <td>12</td>\n",
              "      <td>10</td>\n",
              "    </tr>\n",
              "    <tr>\n",
              "      <th>1</th>\n",
              "      <td>2</td>\n",
              "      <td>13</td>\n",
              "      <td>5</td>\n",
              "    </tr>\n",
              "    <tr>\n",
              "      <th>2</th>\n",
              "      <td>3</td>\n",
              "      <td>14</td>\n",
              "      <td>20</td>\n",
              "    </tr>\n",
              "    <tr>\n",
              "      <th>3</th>\n",
              "      <td>4</td>\n",
              "      <td>15</td>\n",
              "      <td>15</td>\n",
              "    </tr>\n",
              "  </tbody>\n",
              "</table>\n",
              "</div>\n",
              "      <button class=\"colab-df-convert\" onclick=\"convertToInteractive('df-73338f7e-08ae-4e21-b125-6048c9341558')\"\n",
              "              title=\"Convert this dataframe to an interactive table.\"\n",
              "              style=\"display:none;\">\n",
              "        \n",
              "  <svg xmlns=\"http://www.w3.org/2000/svg\" height=\"24px\"viewBox=\"0 0 24 24\"\n",
              "       width=\"24px\">\n",
              "    <path d=\"M0 0h24v24H0V0z\" fill=\"none\"/>\n",
              "    <path d=\"M18.56 5.44l.94 2.06.94-2.06 2.06-.94-2.06-.94-.94-2.06-.94 2.06-2.06.94zm-11 1L8.5 8.5l.94-2.06 2.06-.94-2.06-.94L8.5 2.5l-.94 2.06-2.06.94zm10 10l.94 2.06.94-2.06 2.06-.94-2.06-.94-.94-2.06-.94 2.06-2.06.94z\"/><path d=\"M17.41 7.96l-1.37-1.37c-.4-.4-.92-.59-1.43-.59-.52 0-1.04.2-1.43.59L10.3 9.45l-7.72 7.72c-.78.78-.78 2.05 0 2.83L4 21.41c.39.39.9.59 1.41.59.51 0 1.02-.2 1.41-.59l7.78-7.78 2.81-2.81c.8-.78.8-2.07 0-2.86zM5.41 20L4 18.59l7.72-7.72 1.47 1.35L5.41 20z\"/>\n",
              "  </svg>\n",
              "      </button>\n",
              "      \n",
              "  <style>\n",
              "    .colab-df-container {\n",
              "      display:flex;\n",
              "      flex-wrap:wrap;\n",
              "      gap: 12px;\n",
              "    }\n",
              "\n",
              "    .colab-df-convert {\n",
              "      background-color: #E8F0FE;\n",
              "      border: none;\n",
              "      border-radius: 50%;\n",
              "      cursor: pointer;\n",
              "      display: none;\n",
              "      fill: #1967D2;\n",
              "      height: 32px;\n",
              "      padding: 0 0 0 0;\n",
              "      width: 32px;\n",
              "    }\n",
              "\n",
              "    .colab-df-convert:hover {\n",
              "      background-color: #E2EBFA;\n",
              "      box-shadow: 0px 1px 2px rgba(60, 64, 67, 0.3), 0px 1px 3px 1px rgba(60, 64, 67, 0.15);\n",
              "      fill: #174EA6;\n",
              "    }\n",
              "\n",
              "    [theme=dark] .colab-df-convert {\n",
              "      background-color: #3B4455;\n",
              "      fill: #D2E3FC;\n",
              "    }\n",
              "\n",
              "    [theme=dark] .colab-df-convert:hover {\n",
              "      background-color: #434B5C;\n",
              "      box-shadow: 0px 1px 3px 1px rgba(0, 0, 0, 0.15);\n",
              "      filter: drop-shadow(0px 1px 2px rgba(0, 0, 0, 0.3));\n",
              "      fill: #FFFFFF;\n",
              "    }\n",
              "  </style>\n",
              "\n",
              "      <script>\n",
              "        const buttonEl =\n",
              "          document.querySelector('#df-73338f7e-08ae-4e21-b125-6048c9341558 button.colab-df-convert');\n",
              "        buttonEl.style.display =\n",
              "          google.colab.kernel.accessAllowed ? 'block' : 'none';\n",
              "\n",
              "        async function convertToInteractive(key) {\n",
              "          const element = document.querySelector('#df-73338f7e-08ae-4e21-b125-6048c9341558');\n",
              "          const dataTable =\n",
              "            await google.colab.kernel.invokeFunction('convertToInteractive',\n",
              "                                                     [key], {});\n",
              "          if (!dataTable) return;\n",
              "\n",
              "          const docLinkHtml = 'Like what you see? Visit the ' +\n",
              "            '<a target=\"_blank\" href=https://colab.research.google.com/notebooks/data_table.ipynb>data table notebook</a>'\n",
              "            + ' to learn more about interactive tables.';\n",
              "          element.innerHTML = '';\n",
              "          dataTable['output_type'] = 'display_data';\n",
              "          await google.colab.output.renderOutput(dataTable, element);\n",
              "          const docLink = document.createElement('div');\n",
              "          docLink.innerHTML = docLinkHtml;\n",
              "          element.appendChild(docLink);\n",
              "        }\n",
              "      </script>\n",
              "    </div>\n",
              "  </div>\n",
              "  "
            ]
          },
          "metadata": {},
          "execution_count": 37
        }
      ]
    },
    {
      "cell_type": "markdown",
      "source": [
        "Para considerar uma determinada **coluna** como **índice**, usamos o comando **set_index()**. Porém, é necessário ter cuidado, pois o valor inicial do índice em alguns casos, **não será zero** (como é gerado automaticamente pelo Python) e sim o **valor da coluna**. "
      ],
      "metadata": {
        "id": "GUqJHvVUpLZF"
      }
    },
    {
      "cell_type": "markdown",
      "source": [
        "Esse comando, **não altera o dataframe original**, ele apenas imprime as informações considerando a mudança de index:"
      ],
      "metadata": {
        "id": "mxObDpg77GPH"
      }
    },
    {
      "cell_type": "code",
      "source": [
        "df.set_index('Dias') #Imprime o df considerando que a coluna Dias será o índice"
      ],
      "metadata": {
        "colab": {
          "base_uri": "https://localhost:8080/",
          "height": 0
        },
        "id": "tOaB2nAZpPOw",
        "outputId": "4d123200-7002-487b-f357-1d285acbc0f6"
      },
      "execution_count": 38,
      "outputs": [
        {
          "output_type": "execute_result",
          "data": {
            "text/plain": [
              "      Visitantes  Taxas\n",
              "Dias                   \n",
              "1             12     10\n",
              "2             13      5\n",
              "3             14     20\n",
              "4             15     15"
            ],
            "text/html": [
              "\n",
              "  <div id=\"df-d5c76999-e2a9-4e20-bac5-d2736fae2a51\">\n",
              "    <div class=\"colab-df-container\">\n",
              "      <div>\n",
              "<style scoped>\n",
              "    .dataframe tbody tr th:only-of-type {\n",
              "        vertical-align: middle;\n",
              "    }\n",
              "\n",
              "    .dataframe tbody tr th {\n",
              "        vertical-align: top;\n",
              "    }\n",
              "\n",
              "    .dataframe thead th {\n",
              "        text-align: right;\n",
              "    }\n",
              "</style>\n",
              "<table border=\"1\" class=\"dataframe\">\n",
              "  <thead>\n",
              "    <tr style=\"text-align: right;\">\n",
              "      <th></th>\n",
              "      <th>Visitantes</th>\n",
              "      <th>Taxas</th>\n",
              "    </tr>\n",
              "    <tr>\n",
              "      <th>Dias</th>\n",
              "      <th></th>\n",
              "      <th></th>\n",
              "    </tr>\n",
              "  </thead>\n",
              "  <tbody>\n",
              "    <tr>\n",
              "      <th>1</th>\n",
              "      <td>12</td>\n",
              "      <td>10</td>\n",
              "    </tr>\n",
              "    <tr>\n",
              "      <th>2</th>\n",
              "      <td>13</td>\n",
              "      <td>5</td>\n",
              "    </tr>\n",
              "    <tr>\n",
              "      <th>3</th>\n",
              "      <td>14</td>\n",
              "      <td>20</td>\n",
              "    </tr>\n",
              "    <tr>\n",
              "      <th>4</th>\n",
              "      <td>15</td>\n",
              "      <td>15</td>\n",
              "    </tr>\n",
              "  </tbody>\n",
              "</table>\n",
              "</div>\n",
              "      <button class=\"colab-df-convert\" onclick=\"convertToInteractive('df-d5c76999-e2a9-4e20-bac5-d2736fae2a51')\"\n",
              "              title=\"Convert this dataframe to an interactive table.\"\n",
              "              style=\"display:none;\">\n",
              "        \n",
              "  <svg xmlns=\"http://www.w3.org/2000/svg\" height=\"24px\"viewBox=\"0 0 24 24\"\n",
              "       width=\"24px\">\n",
              "    <path d=\"M0 0h24v24H0V0z\" fill=\"none\"/>\n",
              "    <path d=\"M18.56 5.44l.94 2.06.94-2.06 2.06-.94-2.06-.94-.94-2.06-.94 2.06-2.06.94zm-11 1L8.5 8.5l.94-2.06 2.06-.94-2.06-.94L8.5 2.5l-.94 2.06-2.06.94zm10 10l.94 2.06.94-2.06 2.06-.94-2.06-.94-.94-2.06-.94 2.06-2.06.94z\"/><path d=\"M17.41 7.96l-1.37-1.37c-.4-.4-.92-.59-1.43-.59-.52 0-1.04.2-1.43.59L10.3 9.45l-7.72 7.72c-.78.78-.78 2.05 0 2.83L4 21.41c.39.39.9.59 1.41.59.51 0 1.02-.2 1.41-.59l7.78-7.78 2.81-2.81c.8-.78.8-2.07 0-2.86zM5.41 20L4 18.59l7.72-7.72 1.47 1.35L5.41 20z\"/>\n",
              "  </svg>\n",
              "      </button>\n",
              "      \n",
              "  <style>\n",
              "    .colab-df-container {\n",
              "      display:flex;\n",
              "      flex-wrap:wrap;\n",
              "      gap: 12px;\n",
              "    }\n",
              "\n",
              "    .colab-df-convert {\n",
              "      background-color: #E8F0FE;\n",
              "      border: none;\n",
              "      border-radius: 50%;\n",
              "      cursor: pointer;\n",
              "      display: none;\n",
              "      fill: #1967D2;\n",
              "      height: 32px;\n",
              "      padding: 0 0 0 0;\n",
              "      width: 32px;\n",
              "    }\n",
              "\n",
              "    .colab-df-convert:hover {\n",
              "      background-color: #E2EBFA;\n",
              "      box-shadow: 0px 1px 2px rgba(60, 64, 67, 0.3), 0px 1px 3px 1px rgba(60, 64, 67, 0.15);\n",
              "      fill: #174EA6;\n",
              "    }\n",
              "\n",
              "    [theme=dark] .colab-df-convert {\n",
              "      background-color: #3B4455;\n",
              "      fill: #D2E3FC;\n",
              "    }\n",
              "\n",
              "    [theme=dark] .colab-df-convert:hover {\n",
              "      background-color: #434B5C;\n",
              "      box-shadow: 0px 1px 3px 1px rgba(0, 0, 0, 0.15);\n",
              "      filter: drop-shadow(0px 1px 2px rgba(0, 0, 0, 0.3));\n",
              "      fill: #FFFFFF;\n",
              "    }\n",
              "  </style>\n",
              "\n",
              "      <script>\n",
              "        const buttonEl =\n",
              "          document.querySelector('#df-d5c76999-e2a9-4e20-bac5-d2736fae2a51 button.colab-df-convert');\n",
              "        buttonEl.style.display =\n",
              "          google.colab.kernel.accessAllowed ? 'block' : 'none';\n",
              "\n",
              "        async function convertToInteractive(key) {\n",
              "          const element = document.querySelector('#df-d5c76999-e2a9-4e20-bac5-d2736fae2a51');\n",
              "          const dataTable =\n",
              "            await google.colab.kernel.invokeFunction('convertToInteractive',\n",
              "                                                     [key], {});\n",
              "          if (!dataTable) return;\n",
              "\n",
              "          const docLinkHtml = 'Like what you see? Visit the ' +\n",
              "            '<a target=\"_blank\" href=https://colab.research.google.com/notebooks/data_table.ipynb>data table notebook</a>'\n",
              "            + ' to learn more about interactive tables.';\n",
              "          element.innerHTML = '';\n",
              "          dataTable['output_type'] = 'display_data';\n",
              "          await google.colab.output.renderOutput(dataTable, element);\n",
              "          const docLink = document.createElement('div');\n",
              "          docLink.innerHTML = docLinkHtml;\n",
              "          element.appendChild(docLink);\n",
              "        }\n",
              "      </script>\n",
              "    </div>\n",
              "  </div>\n",
              "  "
            ]
          },
          "metadata": {},
          "execution_count": 38
        }
      ]
    },
    {
      "cell_type": "code",
      "source": [
        "df  # Data Frame original não foi alterado"
      ],
      "metadata": {
        "colab": {
          "base_uri": "https://localhost:8080/",
          "height": 0
        },
        "id": "COmv9zNSYlR4",
        "outputId": "65f0aea2-0f0b-46e4-87f2-e9d25247c922"
      },
      "execution_count": 39,
      "outputs": [
        {
          "output_type": "execute_result",
          "data": {
            "text/plain": [
              "   Dias  Visitantes  Taxas\n",
              "0     1          12     10\n",
              "1     2          13      5\n",
              "2     3          14     20\n",
              "3     4          15     15"
            ],
            "text/html": [
              "\n",
              "  <div id=\"df-3f4356d9-3bb1-458c-9a55-34c0d6cbb531\">\n",
              "    <div class=\"colab-df-container\">\n",
              "      <div>\n",
              "<style scoped>\n",
              "    .dataframe tbody tr th:only-of-type {\n",
              "        vertical-align: middle;\n",
              "    }\n",
              "\n",
              "    .dataframe tbody tr th {\n",
              "        vertical-align: top;\n",
              "    }\n",
              "\n",
              "    .dataframe thead th {\n",
              "        text-align: right;\n",
              "    }\n",
              "</style>\n",
              "<table border=\"1\" class=\"dataframe\">\n",
              "  <thead>\n",
              "    <tr style=\"text-align: right;\">\n",
              "      <th></th>\n",
              "      <th>Dias</th>\n",
              "      <th>Visitantes</th>\n",
              "      <th>Taxas</th>\n",
              "    </tr>\n",
              "  </thead>\n",
              "  <tbody>\n",
              "    <tr>\n",
              "      <th>0</th>\n",
              "      <td>1</td>\n",
              "      <td>12</td>\n",
              "      <td>10</td>\n",
              "    </tr>\n",
              "    <tr>\n",
              "      <th>1</th>\n",
              "      <td>2</td>\n",
              "      <td>13</td>\n",
              "      <td>5</td>\n",
              "    </tr>\n",
              "    <tr>\n",
              "      <th>2</th>\n",
              "      <td>3</td>\n",
              "      <td>14</td>\n",
              "      <td>20</td>\n",
              "    </tr>\n",
              "    <tr>\n",
              "      <th>3</th>\n",
              "      <td>4</td>\n",
              "      <td>15</td>\n",
              "      <td>15</td>\n",
              "    </tr>\n",
              "  </tbody>\n",
              "</table>\n",
              "</div>\n",
              "      <button class=\"colab-df-convert\" onclick=\"convertToInteractive('df-3f4356d9-3bb1-458c-9a55-34c0d6cbb531')\"\n",
              "              title=\"Convert this dataframe to an interactive table.\"\n",
              "              style=\"display:none;\">\n",
              "        \n",
              "  <svg xmlns=\"http://www.w3.org/2000/svg\" height=\"24px\"viewBox=\"0 0 24 24\"\n",
              "       width=\"24px\">\n",
              "    <path d=\"M0 0h24v24H0V0z\" fill=\"none\"/>\n",
              "    <path d=\"M18.56 5.44l.94 2.06.94-2.06 2.06-.94-2.06-.94-.94-2.06-.94 2.06-2.06.94zm-11 1L8.5 8.5l.94-2.06 2.06-.94-2.06-.94L8.5 2.5l-.94 2.06-2.06.94zm10 10l.94 2.06.94-2.06 2.06-.94-2.06-.94-.94-2.06-.94 2.06-2.06.94z\"/><path d=\"M17.41 7.96l-1.37-1.37c-.4-.4-.92-.59-1.43-.59-.52 0-1.04.2-1.43.59L10.3 9.45l-7.72 7.72c-.78.78-.78 2.05 0 2.83L4 21.41c.39.39.9.59 1.41.59.51 0 1.02-.2 1.41-.59l7.78-7.78 2.81-2.81c.8-.78.8-2.07 0-2.86zM5.41 20L4 18.59l7.72-7.72 1.47 1.35L5.41 20z\"/>\n",
              "  </svg>\n",
              "      </button>\n",
              "      \n",
              "  <style>\n",
              "    .colab-df-container {\n",
              "      display:flex;\n",
              "      flex-wrap:wrap;\n",
              "      gap: 12px;\n",
              "    }\n",
              "\n",
              "    .colab-df-convert {\n",
              "      background-color: #E8F0FE;\n",
              "      border: none;\n",
              "      border-radius: 50%;\n",
              "      cursor: pointer;\n",
              "      display: none;\n",
              "      fill: #1967D2;\n",
              "      height: 32px;\n",
              "      padding: 0 0 0 0;\n",
              "      width: 32px;\n",
              "    }\n",
              "\n",
              "    .colab-df-convert:hover {\n",
              "      background-color: #E2EBFA;\n",
              "      box-shadow: 0px 1px 2px rgba(60, 64, 67, 0.3), 0px 1px 3px 1px rgba(60, 64, 67, 0.15);\n",
              "      fill: #174EA6;\n",
              "    }\n",
              "\n",
              "    [theme=dark] .colab-df-convert {\n",
              "      background-color: #3B4455;\n",
              "      fill: #D2E3FC;\n",
              "    }\n",
              "\n",
              "    [theme=dark] .colab-df-convert:hover {\n",
              "      background-color: #434B5C;\n",
              "      box-shadow: 0px 1px 3px 1px rgba(0, 0, 0, 0.15);\n",
              "      filter: drop-shadow(0px 1px 2px rgba(0, 0, 0, 0.3));\n",
              "      fill: #FFFFFF;\n",
              "    }\n",
              "  </style>\n",
              "\n",
              "      <script>\n",
              "        const buttonEl =\n",
              "          document.querySelector('#df-3f4356d9-3bb1-458c-9a55-34c0d6cbb531 button.colab-df-convert');\n",
              "        buttonEl.style.display =\n",
              "          google.colab.kernel.accessAllowed ? 'block' : 'none';\n",
              "\n",
              "        async function convertToInteractive(key) {\n",
              "          const element = document.querySelector('#df-3f4356d9-3bb1-458c-9a55-34c0d6cbb531');\n",
              "          const dataTable =\n",
              "            await google.colab.kernel.invokeFunction('convertToInteractive',\n",
              "                                                     [key], {});\n",
              "          if (!dataTable) return;\n",
              "\n",
              "          const docLinkHtml = 'Like what you see? Visit the ' +\n",
              "            '<a target=\"_blank\" href=https://colab.research.google.com/notebooks/data_table.ipynb>data table notebook</a>'\n",
              "            + ' to learn more about interactive tables.';\n",
              "          element.innerHTML = '';\n",
              "          dataTable['output_type'] = 'display_data';\n",
              "          await google.colab.output.renderOutput(dataTable, element);\n",
              "          const docLink = document.createElement('div');\n",
              "          docLink.innerHTML = docLinkHtml;\n",
              "          element.appendChild(docLink);\n",
              "        }\n",
              "      </script>\n",
              "    </div>\n",
              "  </div>\n",
              "  "
            ]
          },
          "metadata": {},
          "execution_count": 39
        }
      ]
    },
    {
      "cell_type": "markdown",
      "source": [
        "####Visualização"
      ],
      "metadata": {
        "id": "J4rvhqBqpgPF"
      }
    },
    {
      "cell_type": "markdown",
      "source": [
        "Uma das partes mais importantes para a análise de dados é a sua visualização, e com certeza, você presenciará com frequência o comando **head()** que mostra os primeiros 5 elementos do seu Data Frame e do comando **tail()** que mostra os 5 últimos."
      ],
      "metadata": {
        "id": "tD3rqWlSppBs"
      }
    },
    {
      "cell_type": "markdown",
      "source": [
        "Como nosso exemplo possui poucos elementos, podemos escolher a quantidade elementos que serão exibidos"
      ],
      "metadata": {
        "id": "P-OjVRdxY_mY"
      }
    },
    {
      "cell_type": "code",
      "source": [
        "df.head(2)"
      ],
      "metadata": {
        "colab": {
          "base_uri": "https://localhost:8080/",
          "height": 0
        },
        "id": "x9aMDXb2prud",
        "outputId": "04cfe129-ff56-462d-85c7-a100ac0611ef"
      },
      "execution_count": 40,
      "outputs": [
        {
          "output_type": "execute_result",
          "data": {
            "text/plain": [
              "   Dias  Visitantes  Taxas\n",
              "0     1          12     10\n",
              "1     2          13      5"
            ],
            "text/html": [
              "\n",
              "  <div id=\"df-6781df76-1cef-4bbe-9fbf-71766a0368ed\">\n",
              "    <div class=\"colab-df-container\">\n",
              "      <div>\n",
              "<style scoped>\n",
              "    .dataframe tbody tr th:only-of-type {\n",
              "        vertical-align: middle;\n",
              "    }\n",
              "\n",
              "    .dataframe tbody tr th {\n",
              "        vertical-align: top;\n",
              "    }\n",
              "\n",
              "    .dataframe thead th {\n",
              "        text-align: right;\n",
              "    }\n",
              "</style>\n",
              "<table border=\"1\" class=\"dataframe\">\n",
              "  <thead>\n",
              "    <tr style=\"text-align: right;\">\n",
              "      <th></th>\n",
              "      <th>Dias</th>\n",
              "      <th>Visitantes</th>\n",
              "      <th>Taxas</th>\n",
              "    </tr>\n",
              "  </thead>\n",
              "  <tbody>\n",
              "    <tr>\n",
              "      <th>0</th>\n",
              "      <td>1</td>\n",
              "      <td>12</td>\n",
              "      <td>10</td>\n",
              "    </tr>\n",
              "    <tr>\n",
              "      <th>1</th>\n",
              "      <td>2</td>\n",
              "      <td>13</td>\n",
              "      <td>5</td>\n",
              "    </tr>\n",
              "  </tbody>\n",
              "</table>\n",
              "</div>\n",
              "      <button class=\"colab-df-convert\" onclick=\"convertToInteractive('df-6781df76-1cef-4bbe-9fbf-71766a0368ed')\"\n",
              "              title=\"Convert this dataframe to an interactive table.\"\n",
              "              style=\"display:none;\">\n",
              "        \n",
              "  <svg xmlns=\"http://www.w3.org/2000/svg\" height=\"24px\"viewBox=\"0 0 24 24\"\n",
              "       width=\"24px\">\n",
              "    <path d=\"M0 0h24v24H0V0z\" fill=\"none\"/>\n",
              "    <path d=\"M18.56 5.44l.94 2.06.94-2.06 2.06-.94-2.06-.94-.94-2.06-.94 2.06-2.06.94zm-11 1L8.5 8.5l.94-2.06 2.06-.94-2.06-.94L8.5 2.5l-.94 2.06-2.06.94zm10 10l.94 2.06.94-2.06 2.06-.94-2.06-.94-.94-2.06-.94 2.06-2.06.94z\"/><path d=\"M17.41 7.96l-1.37-1.37c-.4-.4-.92-.59-1.43-.59-.52 0-1.04.2-1.43.59L10.3 9.45l-7.72 7.72c-.78.78-.78 2.05 0 2.83L4 21.41c.39.39.9.59 1.41.59.51 0 1.02-.2 1.41-.59l7.78-7.78 2.81-2.81c.8-.78.8-2.07 0-2.86zM5.41 20L4 18.59l7.72-7.72 1.47 1.35L5.41 20z\"/>\n",
              "  </svg>\n",
              "      </button>\n",
              "      \n",
              "  <style>\n",
              "    .colab-df-container {\n",
              "      display:flex;\n",
              "      flex-wrap:wrap;\n",
              "      gap: 12px;\n",
              "    }\n",
              "\n",
              "    .colab-df-convert {\n",
              "      background-color: #E8F0FE;\n",
              "      border: none;\n",
              "      border-radius: 50%;\n",
              "      cursor: pointer;\n",
              "      display: none;\n",
              "      fill: #1967D2;\n",
              "      height: 32px;\n",
              "      padding: 0 0 0 0;\n",
              "      width: 32px;\n",
              "    }\n",
              "\n",
              "    .colab-df-convert:hover {\n",
              "      background-color: #E2EBFA;\n",
              "      box-shadow: 0px 1px 2px rgba(60, 64, 67, 0.3), 0px 1px 3px 1px rgba(60, 64, 67, 0.15);\n",
              "      fill: #174EA6;\n",
              "    }\n",
              "\n",
              "    [theme=dark] .colab-df-convert {\n",
              "      background-color: #3B4455;\n",
              "      fill: #D2E3FC;\n",
              "    }\n",
              "\n",
              "    [theme=dark] .colab-df-convert:hover {\n",
              "      background-color: #434B5C;\n",
              "      box-shadow: 0px 1px 3px 1px rgba(0, 0, 0, 0.15);\n",
              "      filter: drop-shadow(0px 1px 2px rgba(0, 0, 0, 0.3));\n",
              "      fill: #FFFFFF;\n",
              "    }\n",
              "  </style>\n",
              "\n",
              "      <script>\n",
              "        const buttonEl =\n",
              "          document.querySelector('#df-6781df76-1cef-4bbe-9fbf-71766a0368ed button.colab-df-convert');\n",
              "        buttonEl.style.display =\n",
              "          google.colab.kernel.accessAllowed ? 'block' : 'none';\n",
              "\n",
              "        async function convertToInteractive(key) {\n",
              "          const element = document.querySelector('#df-6781df76-1cef-4bbe-9fbf-71766a0368ed');\n",
              "          const dataTable =\n",
              "            await google.colab.kernel.invokeFunction('convertToInteractive',\n",
              "                                                     [key], {});\n",
              "          if (!dataTable) return;\n",
              "\n",
              "          const docLinkHtml = 'Like what you see? Visit the ' +\n",
              "            '<a target=\"_blank\" href=https://colab.research.google.com/notebooks/data_table.ipynb>data table notebook</a>'\n",
              "            + ' to learn more about interactive tables.';\n",
              "          element.innerHTML = '';\n",
              "          dataTable['output_type'] = 'display_data';\n",
              "          await google.colab.output.renderOutput(dataTable, element);\n",
              "          const docLink = document.createElement('div');\n",
              "          docLink.innerHTML = docLinkHtml;\n",
              "          element.appendChild(docLink);\n",
              "        }\n",
              "      </script>\n",
              "    </div>\n",
              "  </div>\n",
              "  "
            ]
          },
          "metadata": {},
          "execution_count": 40
        }
      ]
    },
    {
      "cell_type": "code",
      "source": [
        "df.tail(2)"
      ],
      "metadata": {
        "colab": {
          "base_uri": "https://localhost:8080/",
          "height": 0
        },
        "id": "Y_J2Azaj75J9",
        "outputId": "491ae6c8-1bfa-409c-93fc-f3611151ed95"
      },
      "execution_count": 41,
      "outputs": [
        {
          "output_type": "execute_result",
          "data": {
            "text/plain": [
              "   Dias  Visitantes  Taxas\n",
              "2     3          14     20\n",
              "3     4          15     15"
            ],
            "text/html": [
              "\n",
              "  <div id=\"df-888209de-4b22-4eba-a19f-687990132b78\">\n",
              "    <div class=\"colab-df-container\">\n",
              "      <div>\n",
              "<style scoped>\n",
              "    .dataframe tbody tr th:only-of-type {\n",
              "        vertical-align: middle;\n",
              "    }\n",
              "\n",
              "    .dataframe tbody tr th {\n",
              "        vertical-align: top;\n",
              "    }\n",
              "\n",
              "    .dataframe thead th {\n",
              "        text-align: right;\n",
              "    }\n",
              "</style>\n",
              "<table border=\"1\" class=\"dataframe\">\n",
              "  <thead>\n",
              "    <tr style=\"text-align: right;\">\n",
              "      <th></th>\n",
              "      <th>Dias</th>\n",
              "      <th>Visitantes</th>\n",
              "      <th>Taxas</th>\n",
              "    </tr>\n",
              "  </thead>\n",
              "  <tbody>\n",
              "    <tr>\n",
              "      <th>2</th>\n",
              "      <td>3</td>\n",
              "      <td>14</td>\n",
              "      <td>20</td>\n",
              "    </tr>\n",
              "    <tr>\n",
              "      <th>3</th>\n",
              "      <td>4</td>\n",
              "      <td>15</td>\n",
              "      <td>15</td>\n",
              "    </tr>\n",
              "  </tbody>\n",
              "</table>\n",
              "</div>\n",
              "      <button class=\"colab-df-convert\" onclick=\"convertToInteractive('df-888209de-4b22-4eba-a19f-687990132b78')\"\n",
              "              title=\"Convert this dataframe to an interactive table.\"\n",
              "              style=\"display:none;\">\n",
              "        \n",
              "  <svg xmlns=\"http://www.w3.org/2000/svg\" height=\"24px\"viewBox=\"0 0 24 24\"\n",
              "       width=\"24px\">\n",
              "    <path d=\"M0 0h24v24H0V0z\" fill=\"none\"/>\n",
              "    <path d=\"M18.56 5.44l.94 2.06.94-2.06 2.06-.94-2.06-.94-.94-2.06-.94 2.06-2.06.94zm-11 1L8.5 8.5l.94-2.06 2.06-.94-2.06-.94L8.5 2.5l-.94 2.06-2.06.94zm10 10l.94 2.06.94-2.06 2.06-.94-2.06-.94-.94-2.06-.94 2.06-2.06.94z\"/><path d=\"M17.41 7.96l-1.37-1.37c-.4-.4-.92-.59-1.43-.59-.52 0-1.04.2-1.43.59L10.3 9.45l-7.72 7.72c-.78.78-.78 2.05 0 2.83L4 21.41c.39.39.9.59 1.41.59.51 0 1.02-.2 1.41-.59l7.78-7.78 2.81-2.81c.8-.78.8-2.07 0-2.86zM5.41 20L4 18.59l7.72-7.72 1.47 1.35L5.41 20z\"/>\n",
              "  </svg>\n",
              "      </button>\n",
              "      \n",
              "  <style>\n",
              "    .colab-df-container {\n",
              "      display:flex;\n",
              "      flex-wrap:wrap;\n",
              "      gap: 12px;\n",
              "    }\n",
              "\n",
              "    .colab-df-convert {\n",
              "      background-color: #E8F0FE;\n",
              "      border: none;\n",
              "      border-radius: 50%;\n",
              "      cursor: pointer;\n",
              "      display: none;\n",
              "      fill: #1967D2;\n",
              "      height: 32px;\n",
              "      padding: 0 0 0 0;\n",
              "      width: 32px;\n",
              "    }\n",
              "\n",
              "    .colab-df-convert:hover {\n",
              "      background-color: #E2EBFA;\n",
              "      box-shadow: 0px 1px 2px rgba(60, 64, 67, 0.3), 0px 1px 3px 1px rgba(60, 64, 67, 0.15);\n",
              "      fill: #174EA6;\n",
              "    }\n",
              "\n",
              "    [theme=dark] .colab-df-convert {\n",
              "      background-color: #3B4455;\n",
              "      fill: #D2E3FC;\n",
              "    }\n",
              "\n",
              "    [theme=dark] .colab-df-convert:hover {\n",
              "      background-color: #434B5C;\n",
              "      box-shadow: 0px 1px 3px 1px rgba(0, 0, 0, 0.15);\n",
              "      filter: drop-shadow(0px 1px 2px rgba(0, 0, 0, 0.3));\n",
              "      fill: #FFFFFF;\n",
              "    }\n",
              "  </style>\n",
              "\n",
              "      <script>\n",
              "        const buttonEl =\n",
              "          document.querySelector('#df-888209de-4b22-4eba-a19f-687990132b78 button.colab-df-convert');\n",
              "        buttonEl.style.display =\n",
              "          google.colab.kernel.accessAllowed ? 'block' : 'none';\n",
              "\n",
              "        async function convertToInteractive(key) {\n",
              "          const element = document.querySelector('#df-888209de-4b22-4eba-a19f-687990132b78');\n",
              "          const dataTable =\n",
              "            await google.colab.kernel.invokeFunction('convertToInteractive',\n",
              "                                                     [key], {});\n",
              "          if (!dataTable) return;\n",
              "\n",
              "          const docLinkHtml = 'Like what you see? Visit the ' +\n",
              "            '<a target=\"_blank\" href=https://colab.research.google.com/notebooks/data_table.ipynb>data table notebook</a>'\n",
              "            + ' to learn more about interactive tables.';\n",
              "          element.innerHTML = '';\n",
              "          dataTable['output_type'] = 'display_data';\n",
              "          await google.colab.output.renderOutput(dataTable, element);\n",
              "          const docLink = document.createElement('div');\n",
              "          docLink.innerHTML = docLinkHtml;\n",
              "          element.appendChild(docLink);\n",
              "        }\n",
              "      </script>\n",
              "    </div>\n",
              "  </div>\n",
              "  "
            ]
          },
          "metadata": {},
          "execution_count": 41
        }
      ]
    },
    {
      "cell_type": "markdown",
      "source": [
        "Outros comandos muito úteis são:"
      ],
      "metadata": {
        "id": "ejb4gvWnpt8j"
      }
    },
    {
      "cell_type": "code",
      "source": [
        "df.info()      #Resume informações sobre o Data Frame"
      ],
      "metadata": {
        "colab": {
          "base_uri": "https://localhost:8080/"
        },
        "id": "8HUdSbQZ8H0E",
        "outputId": "bdf1bf90-8218-408d-dfb9-50398835cb03"
      },
      "execution_count": 42,
      "outputs": [
        {
          "output_type": "stream",
          "name": "stdout",
          "text": [
            "<class 'pandas.core.frame.DataFrame'>\n",
            "RangeIndex: 4 entries, 0 to 3\n",
            "Data columns (total 3 columns):\n",
            " #   Column      Non-Null Count  Dtype\n",
            "---  ------      --------------  -----\n",
            " 0   Dias        4 non-null      int64\n",
            " 1   Visitantes  4 non-null      int64\n",
            " 2   Taxas       4 non-null      int64\n",
            "dtypes: int64(3)\n",
            "memory usage: 224.0 bytes\n"
          ]
        }
      ]
    },
    {
      "cell_type": "code",
      "source": [
        "df.describe()     #Mostra estatísticas básicas do Data Frame (contagem, média, desvio padrão, mínimo, máximo e porcentagens dos quartis)."
      ],
      "metadata": {
        "colab": {
          "base_uri": "https://localhost:8080/",
          "height": 0
        },
        "id": "PO6pbow6pxFK",
        "outputId": "a853853d-90e3-4050-d258-c3a55ea3f60c"
      },
      "execution_count": 43,
      "outputs": [
        {
          "output_type": "execute_result",
          "data": {
            "text/plain": [
              "           Dias  Visitantes      Taxas\n",
              "count  4.000000    4.000000   4.000000\n",
              "mean   2.500000   13.500000  12.500000\n",
              "std    1.290994    1.290994   6.454972\n",
              "min    1.000000   12.000000   5.000000\n",
              "25%    1.750000   12.750000   8.750000\n",
              "50%    2.500000   13.500000  12.500000\n",
              "75%    3.250000   14.250000  16.250000\n",
              "max    4.000000   15.000000  20.000000"
            ],
            "text/html": [
              "\n",
              "  <div id=\"df-9fb9b90a-1477-49ba-99f2-439de7fef59f\">\n",
              "    <div class=\"colab-df-container\">\n",
              "      <div>\n",
              "<style scoped>\n",
              "    .dataframe tbody tr th:only-of-type {\n",
              "        vertical-align: middle;\n",
              "    }\n",
              "\n",
              "    .dataframe tbody tr th {\n",
              "        vertical-align: top;\n",
              "    }\n",
              "\n",
              "    .dataframe thead th {\n",
              "        text-align: right;\n",
              "    }\n",
              "</style>\n",
              "<table border=\"1\" class=\"dataframe\">\n",
              "  <thead>\n",
              "    <tr style=\"text-align: right;\">\n",
              "      <th></th>\n",
              "      <th>Dias</th>\n",
              "      <th>Visitantes</th>\n",
              "      <th>Taxas</th>\n",
              "    </tr>\n",
              "  </thead>\n",
              "  <tbody>\n",
              "    <tr>\n",
              "      <th>count</th>\n",
              "      <td>4.000000</td>\n",
              "      <td>4.000000</td>\n",
              "      <td>4.000000</td>\n",
              "    </tr>\n",
              "    <tr>\n",
              "      <th>mean</th>\n",
              "      <td>2.500000</td>\n",
              "      <td>13.500000</td>\n",
              "      <td>12.500000</td>\n",
              "    </tr>\n",
              "    <tr>\n",
              "      <th>std</th>\n",
              "      <td>1.290994</td>\n",
              "      <td>1.290994</td>\n",
              "      <td>6.454972</td>\n",
              "    </tr>\n",
              "    <tr>\n",
              "      <th>min</th>\n",
              "      <td>1.000000</td>\n",
              "      <td>12.000000</td>\n",
              "      <td>5.000000</td>\n",
              "    </tr>\n",
              "    <tr>\n",
              "      <th>25%</th>\n",
              "      <td>1.750000</td>\n",
              "      <td>12.750000</td>\n",
              "      <td>8.750000</td>\n",
              "    </tr>\n",
              "    <tr>\n",
              "      <th>50%</th>\n",
              "      <td>2.500000</td>\n",
              "      <td>13.500000</td>\n",
              "      <td>12.500000</td>\n",
              "    </tr>\n",
              "    <tr>\n",
              "      <th>75%</th>\n",
              "      <td>3.250000</td>\n",
              "      <td>14.250000</td>\n",
              "      <td>16.250000</td>\n",
              "    </tr>\n",
              "    <tr>\n",
              "      <th>max</th>\n",
              "      <td>4.000000</td>\n",
              "      <td>15.000000</td>\n",
              "      <td>20.000000</td>\n",
              "    </tr>\n",
              "  </tbody>\n",
              "</table>\n",
              "</div>\n",
              "      <button class=\"colab-df-convert\" onclick=\"convertToInteractive('df-9fb9b90a-1477-49ba-99f2-439de7fef59f')\"\n",
              "              title=\"Convert this dataframe to an interactive table.\"\n",
              "              style=\"display:none;\">\n",
              "        \n",
              "  <svg xmlns=\"http://www.w3.org/2000/svg\" height=\"24px\"viewBox=\"0 0 24 24\"\n",
              "       width=\"24px\">\n",
              "    <path d=\"M0 0h24v24H0V0z\" fill=\"none\"/>\n",
              "    <path d=\"M18.56 5.44l.94 2.06.94-2.06 2.06-.94-2.06-.94-.94-2.06-.94 2.06-2.06.94zm-11 1L8.5 8.5l.94-2.06 2.06-.94-2.06-.94L8.5 2.5l-.94 2.06-2.06.94zm10 10l.94 2.06.94-2.06 2.06-.94-2.06-.94-.94-2.06-.94 2.06-2.06.94z\"/><path d=\"M17.41 7.96l-1.37-1.37c-.4-.4-.92-.59-1.43-.59-.52 0-1.04.2-1.43.59L10.3 9.45l-7.72 7.72c-.78.78-.78 2.05 0 2.83L4 21.41c.39.39.9.59 1.41.59.51 0 1.02-.2 1.41-.59l7.78-7.78 2.81-2.81c.8-.78.8-2.07 0-2.86zM5.41 20L4 18.59l7.72-7.72 1.47 1.35L5.41 20z\"/>\n",
              "  </svg>\n",
              "      </button>\n",
              "      \n",
              "  <style>\n",
              "    .colab-df-container {\n",
              "      display:flex;\n",
              "      flex-wrap:wrap;\n",
              "      gap: 12px;\n",
              "    }\n",
              "\n",
              "    .colab-df-convert {\n",
              "      background-color: #E8F0FE;\n",
              "      border: none;\n",
              "      border-radius: 50%;\n",
              "      cursor: pointer;\n",
              "      display: none;\n",
              "      fill: #1967D2;\n",
              "      height: 32px;\n",
              "      padding: 0 0 0 0;\n",
              "      width: 32px;\n",
              "    }\n",
              "\n",
              "    .colab-df-convert:hover {\n",
              "      background-color: #E2EBFA;\n",
              "      box-shadow: 0px 1px 2px rgba(60, 64, 67, 0.3), 0px 1px 3px 1px rgba(60, 64, 67, 0.15);\n",
              "      fill: #174EA6;\n",
              "    }\n",
              "\n",
              "    [theme=dark] .colab-df-convert {\n",
              "      background-color: #3B4455;\n",
              "      fill: #D2E3FC;\n",
              "    }\n",
              "\n",
              "    [theme=dark] .colab-df-convert:hover {\n",
              "      background-color: #434B5C;\n",
              "      box-shadow: 0px 1px 3px 1px rgba(0, 0, 0, 0.15);\n",
              "      filter: drop-shadow(0px 1px 2px rgba(0, 0, 0, 0.3));\n",
              "      fill: #FFFFFF;\n",
              "    }\n",
              "  </style>\n",
              "\n",
              "      <script>\n",
              "        const buttonEl =\n",
              "          document.querySelector('#df-9fb9b90a-1477-49ba-99f2-439de7fef59f button.colab-df-convert');\n",
              "        buttonEl.style.display =\n",
              "          google.colab.kernel.accessAllowed ? 'block' : 'none';\n",
              "\n",
              "        async function convertToInteractive(key) {\n",
              "          const element = document.querySelector('#df-9fb9b90a-1477-49ba-99f2-439de7fef59f');\n",
              "          const dataTable =\n",
              "            await google.colab.kernel.invokeFunction('convertToInteractive',\n",
              "                                                     [key], {});\n",
              "          if (!dataTable) return;\n",
              "\n",
              "          const docLinkHtml = 'Like what you see? Visit the ' +\n",
              "            '<a target=\"_blank\" href=https://colab.research.google.com/notebooks/data_table.ipynb>data table notebook</a>'\n",
              "            + ' to learn more about interactive tables.';\n",
              "          element.innerHTML = '';\n",
              "          dataTable['output_type'] = 'display_data';\n",
              "          await google.colab.output.renderOutput(dataTable, element);\n",
              "          const docLink = document.createElement('div');\n",
              "          docLink.innerHTML = docLinkHtml;\n",
              "          element.appendChild(docLink);\n",
              "        }\n",
              "      </script>\n",
              "    </div>\n",
              "  </div>\n",
              "  "
            ]
          },
          "metadata": {},
          "execution_count": 43
        }
      ]
    },
    {
      "cell_type": "markdown",
      "source": [
        "Em alguns casos, é necessário adicionar condições específicas para filtrar os dados, além de podermos selecioná-los em apenas uma coluna."
      ],
      "metadata": {
        "id": "ttANtNGKpz_S"
      }
    },
    {
      "cell_type": "code",
      "source": [
        "df['Dias'].head()  #Exibe os 5 primeiros elementos apenas da coluna Dias"
      ],
      "metadata": {
        "colab": {
          "base_uri": "https://localhost:8080/"
        },
        "id": "DNY_gLdrp3-R",
        "outputId": "e7745dbc-fd33-4f82-d273-2613ffe8489f"
      },
      "execution_count": 44,
      "outputs": [
        {
          "output_type": "execute_result",
          "data": {
            "text/plain": [
              "0    1\n",
              "1    2\n",
              "2    3\n",
              "3    4\n",
              "Name: Dias, dtype: int64"
            ]
          },
          "metadata": {},
          "execution_count": 44
        }
      ]
    },
    {
      "cell_type": "markdown",
      "source": [
        "Essas condições podem ser elaboradas, como o caso abaixo que exibe os 3 primeiros elementos que tenham a coluna **Dias** com valores maiores que 0.1:"
      ],
      "metadata": {
        "id": "8PP9Wdjf8s2n"
      }
    },
    {
      "cell_type": "code",
      "source": [
        "df[df.Dias > 0.1].head(3)"
      ],
      "metadata": {
        "colab": {
          "base_uri": "https://localhost:8080/",
          "height": 0
        },
        "id": "sYSlr0Lk8lSf",
        "outputId": "3023058e-adb0-44ba-cd88-7b7556947899"
      },
      "execution_count": 45,
      "outputs": [
        {
          "output_type": "execute_result",
          "data": {
            "text/plain": [
              "   Dias  Visitantes  Taxas\n",
              "0     1          12     10\n",
              "1     2          13      5\n",
              "2     3          14     20"
            ],
            "text/html": [
              "\n",
              "  <div id=\"df-2798208c-7a28-4208-ae07-d142e64075eb\">\n",
              "    <div class=\"colab-df-container\">\n",
              "      <div>\n",
              "<style scoped>\n",
              "    .dataframe tbody tr th:only-of-type {\n",
              "        vertical-align: middle;\n",
              "    }\n",
              "\n",
              "    .dataframe tbody tr th {\n",
              "        vertical-align: top;\n",
              "    }\n",
              "\n",
              "    .dataframe thead th {\n",
              "        text-align: right;\n",
              "    }\n",
              "</style>\n",
              "<table border=\"1\" class=\"dataframe\">\n",
              "  <thead>\n",
              "    <tr style=\"text-align: right;\">\n",
              "      <th></th>\n",
              "      <th>Dias</th>\n",
              "      <th>Visitantes</th>\n",
              "      <th>Taxas</th>\n",
              "    </tr>\n",
              "  </thead>\n",
              "  <tbody>\n",
              "    <tr>\n",
              "      <th>0</th>\n",
              "      <td>1</td>\n",
              "      <td>12</td>\n",
              "      <td>10</td>\n",
              "    </tr>\n",
              "    <tr>\n",
              "      <th>1</th>\n",
              "      <td>2</td>\n",
              "      <td>13</td>\n",
              "      <td>5</td>\n",
              "    </tr>\n",
              "    <tr>\n",
              "      <th>2</th>\n",
              "      <td>3</td>\n",
              "      <td>14</td>\n",
              "      <td>20</td>\n",
              "    </tr>\n",
              "  </tbody>\n",
              "</table>\n",
              "</div>\n",
              "      <button class=\"colab-df-convert\" onclick=\"convertToInteractive('df-2798208c-7a28-4208-ae07-d142e64075eb')\"\n",
              "              title=\"Convert this dataframe to an interactive table.\"\n",
              "              style=\"display:none;\">\n",
              "        \n",
              "  <svg xmlns=\"http://www.w3.org/2000/svg\" height=\"24px\"viewBox=\"0 0 24 24\"\n",
              "       width=\"24px\">\n",
              "    <path d=\"M0 0h24v24H0V0z\" fill=\"none\"/>\n",
              "    <path d=\"M18.56 5.44l.94 2.06.94-2.06 2.06-.94-2.06-.94-.94-2.06-.94 2.06-2.06.94zm-11 1L8.5 8.5l.94-2.06 2.06-.94-2.06-.94L8.5 2.5l-.94 2.06-2.06.94zm10 10l.94 2.06.94-2.06 2.06-.94-2.06-.94-.94-2.06-.94 2.06-2.06.94z\"/><path d=\"M17.41 7.96l-1.37-1.37c-.4-.4-.92-.59-1.43-.59-.52 0-1.04.2-1.43.59L10.3 9.45l-7.72 7.72c-.78.78-.78 2.05 0 2.83L4 21.41c.39.39.9.59 1.41.59.51 0 1.02-.2 1.41-.59l7.78-7.78 2.81-2.81c.8-.78.8-2.07 0-2.86zM5.41 20L4 18.59l7.72-7.72 1.47 1.35L5.41 20z\"/>\n",
              "  </svg>\n",
              "      </button>\n",
              "      \n",
              "  <style>\n",
              "    .colab-df-container {\n",
              "      display:flex;\n",
              "      flex-wrap:wrap;\n",
              "      gap: 12px;\n",
              "    }\n",
              "\n",
              "    .colab-df-convert {\n",
              "      background-color: #E8F0FE;\n",
              "      border: none;\n",
              "      border-radius: 50%;\n",
              "      cursor: pointer;\n",
              "      display: none;\n",
              "      fill: #1967D2;\n",
              "      height: 32px;\n",
              "      padding: 0 0 0 0;\n",
              "      width: 32px;\n",
              "    }\n",
              "\n",
              "    .colab-df-convert:hover {\n",
              "      background-color: #E2EBFA;\n",
              "      box-shadow: 0px 1px 2px rgba(60, 64, 67, 0.3), 0px 1px 3px 1px rgba(60, 64, 67, 0.15);\n",
              "      fill: #174EA6;\n",
              "    }\n",
              "\n",
              "    [theme=dark] .colab-df-convert {\n",
              "      background-color: #3B4455;\n",
              "      fill: #D2E3FC;\n",
              "    }\n",
              "\n",
              "    [theme=dark] .colab-df-convert:hover {\n",
              "      background-color: #434B5C;\n",
              "      box-shadow: 0px 1px 3px 1px rgba(0, 0, 0, 0.15);\n",
              "      filter: drop-shadow(0px 1px 2px rgba(0, 0, 0, 0.3));\n",
              "      fill: #FFFFFF;\n",
              "    }\n",
              "  </style>\n",
              "\n",
              "      <script>\n",
              "        const buttonEl =\n",
              "          document.querySelector('#df-2798208c-7a28-4208-ae07-d142e64075eb button.colab-df-convert');\n",
              "        buttonEl.style.display =\n",
              "          google.colab.kernel.accessAllowed ? 'block' : 'none';\n",
              "\n",
              "        async function convertToInteractive(key) {\n",
              "          const element = document.querySelector('#df-2798208c-7a28-4208-ae07-d142e64075eb');\n",
              "          const dataTable =\n",
              "            await google.colab.kernel.invokeFunction('convertToInteractive',\n",
              "                                                     [key], {});\n",
              "          if (!dataTable) return;\n",
              "\n",
              "          const docLinkHtml = 'Like what you see? Visit the ' +\n",
              "            '<a target=\"_blank\" href=https://colab.research.google.com/notebooks/data_table.ipynb>data table notebook</a>'\n",
              "            + ' to learn more about interactive tables.';\n",
              "          element.innerHTML = '';\n",
              "          dataTable['output_type'] = 'display_data';\n",
              "          await google.colab.output.renderOutput(dataTable, element);\n",
              "          const docLink = document.createElement('div');\n",
              "          docLink.innerHTML = docLinkHtml;\n",
              "          element.appendChild(docLink);\n",
              "        }\n",
              "      </script>\n",
              "    </div>\n",
              "  </div>\n",
              "  "
            ]
          },
          "metadata": {},
          "execution_count": 45
        }
      ]
    },
    {
      "cell_type": "markdown",
      "source": [
        "Também é possível utilizar **operadores lógicos** (AND ou OR, por exemplo) para obter dados mais específicos. No exemplo abaixo estamos utilizando o operador **AND**, logo, ele exibirá todos os dados que satisfaçam as **duas condições**, retornando os valores da coluna **Dias** que sejam maiores que 0.1 **e** da coluna **Taxas** que sejam menores que 15. "
      ],
      "metadata": {
        "id": "owuXUW3o9Ne8"
      }
    },
    {
      "cell_type": "code",
      "source": [
        "df[(df.Dias > 0.1) & (df.Taxas < 15)]"
      ],
      "metadata": {
        "colab": {
          "base_uri": "https://localhost:8080/",
          "height": 0
        },
        "id": "oEs5crbA8lyt",
        "outputId": "0472c46e-59fd-44ac-ccc5-59da767b72cf"
      },
      "execution_count": 46,
      "outputs": [
        {
          "output_type": "execute_result",
          "data": {
            "text/plain": [
              "   Dias  Visitantes  Taxas\n",
              "0     1          12     10\n",
              "1     2          13      5"
            ],
            "text/html": [
              "\n",
              "  <div id=\"df-c565facb-2897-4fe1-822a-db83a57cb2fd\">\n",
              "    <div class=\"colab-df-container\">\n",
              "      <div>\n",
              "<style scoped>\n",
              "    .dataframe tbody tr th:only-of-type {\n",
              "        vertical-align: middle;\n",
              "    }\n",
              "\n",
              "    .dataframe tbody tr th {\n",
              "        vertical-align: top;\n",
              "    }\n",
              "\n",
              "    .dataframe thead th {\n",
              "        text-align: right;\n",
              "    }\n",
              "</style>\n",
              "<table border=\"1\" class=\"dataframe\">\n",
              "  <thead>\n",
              "    <tr style=\"text-align: right;\">\n",
              "      <th></th>\n",
              "      <th>Dias</th>\n",
              "      <th>Visitantes</th>\n",
              "      <th>Taxas</th>\n",
              "    </tr>\n",
              "  </thead>\n",
              "  <tbody>\n",
              "    <tr>\n",
              "      <th>0</th>\n",
              "      <td>1</td>\n",
              "      <td>12</td>\n",
              "      <td>10</td>\n",
              "    </tr>\n",
              "    <tr>\n",
              "      <th>1</th>\n",
              "      <td>2</td>\n",
              "      <td>13</td>\n",
              "      <td>5</td>\n",
              "    </tr>\n",
              "  </tbody>\n",
              "</table>\n",
              "</div>\n",
              "      <button class=\"colab-df-convert\" onclick=\"convertToInteractive('df-c565facb-2897-4fe1-822a-db83a57cb2fd')\"\n",
              "              title=\"Convert this dataframe to an interactive table.\"\n",
              "              style=\"display:none;\">\n",
              "        \n",
              "  <svg xmlns=\"http://www.w3.org/2000/svg\" height=\"24px\"viewBox=\"0 0 24 24\"\n",
              "       width=\"24px\">\n",
              "    <path d=\"M0 0h24v24H0V0z\" fill=\"none\"/>\n",
              "    <path d=\"M18.56 5.44l.94 2.06.94-2.06 2.06-.94-2.06-.94-.94-2.06-.94 2.06-2.06.94zm-11 1L8.5 8.5l.94-2.06 2.06-.94-2.06-.94L8.5 2.5l-.94 2.06-2.06.94zm10 10l.94 2.06.94-2.06 2.06-.94-2.06-.94-.94-2.06-.94 2.06-2.06.94z\"/><path d=\"M17.41 7.96l-1.37-1.37c-.4-.4-.92-.59-1.43-.59-.52 0-1.04.2-1.43.59L10.3 9.45l-7.72 7.72c-.78.78-.78 2.05 0 2.83L4 21.41c.39.39.9.59 1.41.59.51 0 1.02-.2 1.41-.59l7.78-7.78 2.81-2.81c.8-.78.8-2.07 0-2.86zM5.41 20L4 18.59l7.72-7.72 1.47 1.35L5.41 20z\"/>\n",
              "  </svg>\n",
              "      </button>\n",
              "      \n",
              "  <style>\n",
              "    .colab-df-container {\n",
              "      display:flex;\n",
              "      flex-wrap:wrap;\n",
              "      gap: 12px;\n",
              "    }\n",
              "\n",
              "    .colab-df-convert {\n",
              "      background-color: #E8F0FE;\n",
              "      border: none;\n",
              "      border-radius: 50%;\n",
              "      cursor: pointer;\n",
              "      display: none;\n",
              "      fill: #1967D2;\n",
              "      height: 32px;\n",
              "      padding: 0 0 0 0;\n",
              "      width: 32px;\n",
              "    }\n",
              "\n",
              "    .colab-df-convert:hover {\n",
              "      background-color: #E2EBFA;\n",
              "      box-shadow: 0px 1px 2px rgba(60, 64, 67, 0.3), 0px 1px 3px 1px rgba(60, 64, 67, 0.15);\n",
              "      fill: #174EA6;\n",
              "    }\n",
              "\n",
              "    [theme=dark] .colab-df-convert {\n",
              "      background-color: #3B4455;\n",
              "      fill: #D2E3FC;\n",
              "    }\n",
              "\n",
              "    [theme=dark] .colab-df-convert:hover {\n",
              "      background-color: #434B5C;\n",
              "      box-shadow: 0px 1px 3px 1px rgba(0, 0, 0, 0.15);\n",
              "      filter: drop-shadow(0px 1px 2px rgba(0, 0, 0, 0.3));\n",
              "      fill: #FFFFFF;\n",
              "    }\n",
              "  </style>\n",
              "\n",
              "      <script>\n",
              "        const buttonEl =\n",
              "          document.querySelector('#df-c565facb-2897-4fe1-822a-db83a57cb2fd button.colab-df-convert');\n",
              "        buttonEl.style.display =\n",
              "          google.colab.kernel.accessAllowed ? 'block' : 'none';\n",
              "\n",
              "        async function convertToInteractive(key) {\n",
              "          const element = document.querySelector('#df-c565facb-2897-4fe1-822a-db83a57cb2fd');\n",
              "          const dataTable =\n",
              "            await google.colab.kernel.invokeFunction('convertToInteractive',\n",
              "                                                     [key], {});\n",
              "          if (!dataTable) return;\n",
              "\n",
              "          const docLinkHtml = 'Like what you see? Visit the ' +\n",
              "            '<a target=\"_blank\" href=https://colab.research.google.com/notebooks/data_table.ipynb>data table notebook</a>'\n",
              "            + ' to learn more about interactive tables.';\n",
              "          element.innerHTML = '';\n",
              "          dataTable['output_type'] = 'display_data';\n",
              "          await google.colab.output.renderOutput(dataTable, element);\n",
              "          const docLink = document.createElement('div');\n",
              "          docLink.innerHTML = docLinkHtml;\n",
              "          element.appendChild(docLink);\n",
              "        }\n",
              "      </script>\n",
              "    </div>\n",
              "  </div>\n",
              "  "
            ]
          },
          "metadata": {},
          "execution_count": 46
        }
      ]
    },
    {
      "cell_type": "markdown",
      "source": [
        "####Manipulação de Dados"
      ],
      "metadata": {
        "id": "RBebgWWZ-WZd"
      }
    },
    {
      "cell_type": "markdown",
      "source": [
        "#####Copy"
      ],
      "metadata": {
        "id": "Jk7IYhHEp7mM"
      }
    },
    {
      "cell_type": "markdown",
      "source": [
        "Antes de realizar algumas alteração importante no Data Frame original, é importante **copiar** seus dados para evitar riscos de perdas ou quebra do código. "
      ],
      "metadata": {
        "id": "zfmwNsChp-ss"
      }
    },
    {
      "cell_type": "code",
      "source": [
        "df2 = df.copy()           #Copia o Data Frame inteiro\n",
        "df2"
      ],
      "metadata": {
        "id": "ia1m36yc-u4w",
        "colab": {
          "base_uri": "https://localhost:8080/",
          "height": 0
        },
        "outputId": "fbca4a94-e5d5-4fa8-ec79-7d4fac94bc4c"
      },
      "execution_count": 47,
      "outputs": [
        {
          "output_type": "execute_result",
          "data": {
            "text/plain": [
              "   Dias  Visitantes  Taxas\n",
              "0     1          12     10\n",
              "1     2          13      5\n",
              "2     3          14     20\n",
              "3     4          15     15"
            ],
            "text/html": [
              "\n",
              "  <div id=\"df-c54a4ecd-b971-441f-b001-1fd59abbd721\">\n",
              "    <div class=\"colab-df-container\">\n",
              "      <div>\n",
              "<style scoped>\n",
              "    .dataframe tbody tr th:only-of-type {\n",
              "        vertical-align: middle;\n",
              "    }\n",
              "\n",
              "    .dataframe tbody tr th {\n",
              "        vertical-align: top;\n",
              "    }\n",
              "\n",
              "    .dataframe thead th {\n",
              "        text-align: right;\n",
              "    }\n",
              "</style>\n",
              "<table border=\"1\" class=\"dataframe\">\n",
              "  <thead>\n",
              "    <tr style=\"text-align: right;\">\n",
              "      <th></th>\n",
              "      <th>Dias</th>\n",
              "      <th>Visitantes</th>\n",
              "      <th>Taxas</th>\n",
              "    </tr>\n",
              "  </thead>\n",
              "  <tbody>\n",
              "    <tr>\n",
              "      <th>0</th>\n",
              "      <td>1</td>\n",
              "      <td>12</td>\n",
              "      <td>10</td>\n",
              "    </tr>\n",
              "    <tr>\n",
              "      <th>1</th>\n",
              "      <td>2</td>\n",
              "      <td>13</td>\n",
              "      <td>5</td>\n",
              "    </tr>\n",
              "    <tr>\n",
              "      <th>2</th>\n",
              "      <td>3</td>\n",
              "      <td>14</td>\n",
              "      <td>20</td>\n",
              "    </tr>\n",
              "    <tr>\n",
              "      <th>3</th>\n",
              "      <td>4</td>\n",
              "      <td>15</td>\n",
              "      <td>15</td>\n",
              "    </tr>\n",
              "  </tbody>\n",
              "</table>\n",
              "</div>\n",
              "      <button class=\"colab-df-convert\" onclick=\"convertToInteractive('df-c54a4ecd-b971-441f-b001-1fd59abbd721')\"\n",
              "              title=\"Convert this dataframe to an interactive table.\"\n",
              "              style=\"display:none;\">\n",
              "        \n",
              "  <svg xmlns=\"http://www.w3.org/2000/svg\" height=\"24px\"viewBox=\"0 0 24 24\"\n",
              "       width=\"24px\">\n",
              "    <path d=\"M0 0h24v24H0V0z\" fill=\"none\"/>\n",
              "    <path d=\"M18.56 5.44l.94 2.06.94-2.06 2.06-.94-2.06-.94-.94-2.06-.94 2.06-2.06.94zm-11 1L8.5 8.5l.94-2.06 2.06-.94-2.06-.94L8.5 2.5l-.94 2.06-2.06.94zm10 10l.94 2.06.94-2.06 2.06-.94-2.06-.94-.94-2.06-.94 2.06-2.06.94z\"/><path d=\"M17.41 7.96l-1.37-1.37c-.4-.4-.92-.59-1.43-.59-.52 0-1.04.2-1.43.59L10.3 9.45l-7.72 7.72c-.78.78-.78 2.05 0 2.83L4 21.41c.39.39.9.59 1.41.59.51 0 1.02-.2 1.41-.59l7.78-7.78 2.81-2.81c.8-.78.8-2.07 0-2.86zM5.41 20L4 18.59l7.72-7.72 1.47 1.35L5.41 20z\"/>\n",
              "  </svg>\n",
              "      </button>\n",
              "      \n",
              "  <style>\n",
              "    .colab-df-container {\n",
              "      display:flex;\n",
              "      flex-wrap:wrap;\n",
              "      gap: 12px;\n",
              "    }\n",
              "\n",
              "    .colab-df-convert {\n",
              "      background-color: #E8F0FE;\n",
              "      border: none;\n",
              "      border-radius: 50%;\n",
              "      cursor: pointer;\n",
              "      display: none;\n",
              "      fill: #1967D2;\n",
              "      height: 32px;\n",
              "      padding: 0 0 0 0;\n",
              "      width: 32px;\n",
              "    }\n",
              "\n",
              "    .colab-df-convert:hover {\n",
              "      background-color: #E2EBFA;\n",
              "      box-shadow: 0px 1px 2px rgba(60, 64, 67, 0.3), 0px 1px 3px 1px rgba(60, 64, 67, 0.15);\n",
              "      fill: #174EA6;\n",
              "    }\n",
              "\n",
              "    [theme=dark] .colab-df-convert {\n",
              "      background-color: #3B4455;\n",
              "      fill: #D2E3FC;\n",
              "    }\n",
              "\n",
              "    [theme=dark] .colab-df-convert:hover {\n",
              "      background-color: #434B5C;\n",
              "      box-shadow: 0px 1px 3px 1px rgba(0, 0, 0, 0.15);\n",
              "      filter: drop-shadow(0px 1px 2px rgba(0, 0, 0, 0.3));\n",
              "      fill: #FFFFFF;\n",
              "    }\n",
              "  </style>\n",
              "\n",
              "      <script>\n",
              "        const buttonEl =\n",
              "          document.querySelector('#df-c54a4ecd-b971-441f-b001-1fd59abbd721 button.colab-df-convert');\n",
              "        buttonEl.style.display =\n",
              "          google.colab.kernel.accessAllowed ? 'block' : 'none';\n",
              "\n",
              "        async function convertToInteractive(key) {\n",
              "          const element = document.querySelector('#df-c54a4ecd-b971-441f-b001-1fd59abbd721');\n",
              "          const dataTable =\n",
              "            await google.colab.kernel.invokeFunction('convertToInteractive',\n",
              "                                                     [key], {});\n",
              "          if (!dataTable) return;\n",
              "\n",
              "          const docLinkHtml = 'Like what you see? Visit the ' +\n",
              "            '<a target=\"_blank\" href=https://colab.research.google.com/notebooks/data_table.ipynb>data table notebook</a>'\n",
              "            + ' to learn more about interactive tables.';\n",
              "          element.innerHTML = '';\n",
              "          dataTable['output_type'] = 'display_data';\n",
              "          await google.colab.output.renderOutput(dataTable, element);\n",
              "          const docLink = document.createElement('div');\n",
              "          docLink.innerHTML = docLinkHtml;\n",
              "          element.appendChild(docLink);\n",
              "        }\n",
              "      </script>\n",
              "    </div>\n",
              "  </div>\n",
              "  "
            ]
          },
          "metadata": {},
          "execution_count": 47
        }
      ]
    },
    {
      "cell_type": "markdown",
      "source": [
        "#####Join"
      ],
      "metadata": {
        "id": "aZ4VArflqGX1"
      }
    },
    {
      "cell_type": "markdown",
      "source": [
        "É possível **juntar** dois Data Frames em um só, porém, é preciso tomar cuidado, pois a **ordem** altera o resultado. Para o nosso exemplo, vamos criar dois Data Frames a partir de **frame** (Data Frame utilizado anteriormente) selecionando a coluna **Ano** e posteriormente a coluna **Estado**."
      ],
      "metadata": {
        "id": "nVY-O8YSqJFT"
      }
    },
    {
      "cell_type": "code",
      "source": [
        "df3 = DataFrame(frame['Ano'])  #Copia apenas uma parte, neste caso, apenas  a coluna rSDSS\n",
        "df3"
      ],
      "metadata": {
        "id": "p13SLUpq-uty",
        "colab": {
          "base_uri": "https://localhost:8080/",
          "height": 0
        },
        "outputId": "e7ab6353-6efe-409f-9e51-a4cf130d17c5"
      },
      "execution_count": 48,
      "outputs": [
        {
          "output_type": "execute_result",
          "data": {
            "text/plain": [
              "    Ano\n",
              "0  1999\n",
              "1  2004\n",
              "2  1995"
            ],
            "text/html": [
              "\n",
              "  <div id=\"df-cd31abb5-8ac2-4fe5-88d2-464a52d40c36\">\n",
              "    <div class=\"colab-df-container\">\n",
              "      <div>\n",
              "<style scoped>\n",
              "    .dataframe tbody tr th:only-of-type {\n",
              "        vertical-align: middle;\n",
              "    }\n",
              "\n",
              "    .dataframe tbody tr th {\n",
              "        vertical-align: top;\n",
              "    }\n",
              "\n",
              "    .dataframe thead th {\n",
              "        text-align: right;\n",
              "    }\n",
              "</style>\n",
              "<table border=\"1\" class=\"dataframe\">\n",
              "  <thead>\n",
              "    <tr style=\"text-align: right;\">\n",
              "      <th></th>\n",
              "      <th>Ano</th>\n",
              "    </tr>\n",
              "  </thead>\n",
              "  <tbody>\n",
              "    <tr>\n",
              "      <th>0</th>\n",
              "      <td>1999</td>\n",
              "    </tr>\n",
              "    <tr>\n",
              "      <th>1</th>\n",
              "      <td>2004</td>\n",
              "    </tr>\n",
              "    <tr>\n",
              "      <th>2</th>\n",
              "      <td>1995</td>\n",
              "    </tr>\n",
              "  </tbody>\n",
              "</table>\n",
              "</div>\n",
              "      <button class=\"colab-df-convert\" onclick=\"convertToInteractive('df-cd31abb5-8ac2-4fe5-88d2-464a52d40c36')\"\n",
              "              title=\"Convert this dataframe to an interactive table.\"\n",
              "              style=\"display:none;\">\n",
              "        \n",
              "  <svg xmlns=\"http://www.w3.org/2000/svg\" height=\"24px\"viewBox=\"0 0 24 24\"\n",
              "       width=\"24px\">\n",
              "    <path d=\"M0 0h24v24H0V0z\" fill=\"none\"/>\n",
              "    <path d=\"M18.56 5.44l.94 2.06.94-2.06 2.06-.94-2.06-.94-.94-2.06-.94 2.06-2.06.94zm-11 1L8.5 8.5l.94-2.06 2.06-.94-2.06-.94L8.5 2.5l-.94 2.06-2.06.94zm10 10l.94 2.06.94-2.06 2.06-.94-2.06-.94-.94-2.06-.94 2.06-2.06.94z\"/><path d=\"M17.41 7.96l-1.37-1.37c-.4-.4-.92-.59-1.43-.59-.52 0-1.04.2-1.43.59L10.3 9.45l-7.72 7.72c-.78.78-.78 2.05 0 2.83L4 21.41c.39.39.9.59 1.41.59.51 0 1.02-.2 1.41-.59l7.78-7.78 2.81-2.81c.8-.78.8-2.07 0-2.86zM5.41 20L4 18.59l7.72-7.72 1.47 1.35L5.41 20z\"/>\n",
              "  </svg>\n",
              "      </button>\n",
              "      \n",
              "  <style>\n",
              "    .colab-df-container {\n",
              "      display:flex;\n",
              "      flex-wrap:wrap;\n",
              "      gap: 12px;\n",
              "    }\n",
              "\n",
              "    .colab-df-convert {\n",
              "      background-color: #E8F0FE;\n",
              "      border: none;\n",
              "      border-radius: 50%;\n",
              "      cursor: pointer;\n",
              "      display: none;\n",
              "      fill: #1967D2;\n",
              "      height: 32px;\n",
              "      padding: 0 0 0 0;\n",
              "      width: 32px;\n",
              "    }\n",
              "\n",
              "    .colab-df-convert:hover {\n",
              "      background-color: #E2EBFA;\n",
              "      box-shadow: 0px 1px 2px rgba(60, 64, 67, 0.3), 0px 1px 3px 1px rgba(60, 64, 67, 0.15);\n",
              "      fill: #174EA6;\n",
              "    }\n",
              "\n",
              "    [theme=dark] .colab-df-convert {\n",
              "      background-color: #3B4455;\n",
              "      fill: #D2E3FC;\n",
              "    }\n",
              "\n",
              "    [theme=dark] .colab-df-convert:hover {\n",
              "      background-color: #434B5C;\n",
              "      box-shadow: 0px 1px 3px 1px rgba(0, 0, 0, 0.15);\n",
              "      filter: drop-shadow(0px 1px 2px rgba(0, 0, 0, 0.3));\n",
              "      fill: #FFFFFF;\n",
              "    }\n",
              "  </style>\n",
              "\n",
              "      <script>\n",
              "        const buttonEl =\n",
              "          document.querySelector('#df-cd31abb5-8ac2-4fe5-88d2-464a52d40c36 button.colab-df-convert');\n",
              "        buttonEl.style.display =\n",
              "          google.colab.kernel.accessAllowed ? 'block' : 'none';\n",
              "\n",
              "        async function convertToInteractive(key) {\n",
              "          const element = document.querySelector('#df-cd31abb5-8ac2-4fe5-88d2-464a52d40c36');\n",
              "          const dataTable =\n",
              "            await google.colab.kernel.invokeFunction('convertToInteractive',\n",
              "                                                     [key], {});\n",
              "          if (!dataTable) return;\n",
              "\n",
              "          const docLinkHtml = 'Like what you see? Visit the ' +\n",
              "            '<a target=\"_blank\" href=https://colab.research.google.com/notebooks/data_table.ipynb>data table notebook</a>'\n",
              "            + ' to learn more about interactive tables.';\n",
              "          element.innerHTML = '';\n",
              "          dataTable['output_type'] = 'display_data';\n",
              "          await google.colab.output.renderOutput(dataTable, element);\n",
              "          const docLink = document.createElement('div');\n",
              "          docLink.innerHTML = docLinkHtml;\n",
              "          element.appendChild(docLink);\n",
              "        }\n",
              "      </script>\n",
              "    </div>\n",
              "  </div>\n",
              "  "
            ]
          },
          "metadata": {},
          "execution_count": 48
        }
      ]
    },
    {
      "cell_type": "code",
      "source": [
        "df4 = DataFrame(frame['Estado'])\n",
        "df4"
      ],
      "metadata": {
        "colab": {
          "base_uri": "https://localhost:8080/",
          "height": 0
        },
        "id": "FNL9se7UYhka",
        "outputId": "049650cb-6e60-4f8a-b9c0-1ded789c4bd5"
      },
      "execution_count": 49,
      "outputs": [
        {
          "output_type": "execute_result",
          "data": {
            "text/plain": [
              "      Estado\n",
              "0     Paraná\n",
              "1      Bahia\n",
              "2  São Paulo"
            ],
            "text/html": [
              "\n",
              "  <div id=\"df-4aa08f85-3c9e-4d34-8987-e52182160a20\">\n",
              "    <div class=\"colab-df-container\">\n",
              "      <div>\n",
              "<style scoped>\n",
              "    .dataframe tbody tr th:only-of-type {\n",
              "        vertical-align: middle;\n",
              "    }\n",
              "\n",
              "    .dataframe tbody tr th {\n",
              "        vertical-align: top;\n",
              "    }\n",
              "\n",
              "    .dataframe thead th {\n",
              "        text-align: right;\n",
              "    }\n",
              "</style>\n",
              "<table border=\"1\" class=\"dataframe\">\n",
              "  <thead>\n",
              "    <tr style=\"text-align: right;\">\n",
              "      <th></th>\n",
              "      <th>Estado</th>\n",
              "    </tr>\n",
              "  </thead>\n",
              "  <tbody>\n",
              "    <tr>\n",
              "      <th>0</th>\n",
              "      <td>Paraná</td>\n",
              "    </tr>\n",
              "    <tr>\n",
              "      <th>1</th>\n",
              "      <td>Bahia</td>\n",
              "    </tr>\n",
              "    <tr>\n",
              "      <th>2</th>\n",
              "      <td>São Paulo</td>\n",
              "    </tr>\n",
              "  </tbody>\n",
              "</table>\n",
              "</div>\n",
              "      <button class=\"colab-df-convert\" onclick=\"convertToInteractive('df-4aa08f85-3c9e-4d34-8987-e52182160a20')\"\n",
              "              title=\"Convert this dataframe to an interactive table.\"\n",
              "              style=\"display:none;\">\n",
              "        \n",
              "  <svg xmlns=\"http://www.w3.org/2000/svg\" height=\"24px\"viewBox=\"0 0 24 24\"\n",
              "       width=\"24px\">\n",
              "    <path d=\"M0 0h24v24H0V0z\" fill=\"none\"/>\n",
              "    <path d=\"M18.56 5.44l.94 2.06.94-2.06 2.06-.94-2.06-.94-.94-2.06-.94 2.06-2.06.94zm-11 1L8.5 8.5l.94-2.06 2.06-.94-2.06-.94L8.5 2.5l-.94 2.06-2.06.94zm10 10l.94 2.06.94-2.06 2.06-.94-2.06-.94-.94-2.06-.94 2.06-2.06.94z\"/><path d=\"M17.41 7.96l-1.37-1.37c-.4-.4-.92-.59-1.43-.59-.52 0-1.04.2-1.43.59L10.3 9.45l-7.72 7.72c-.78.78-.78 2.05 0 2.83L4 21.41c.39.39.9.59 1.41.59.51 0 1.02-.2 1.41-.59l7.78-7.78 2.81-2.81c.8-.78.8-2.07 0-2.86zM5.41 20L4 18.59l7.72-7.72 1.47 1.35L5.41 20z\"/>\n",
              "  </svg>\n",
              "      </button>\n",
              "      \n",
              "  <style>\n",
              "    .colab-df-container {\n",
              "      display:flex;\n",
              "      flex-wrap:wrap;\n",
              "      gap: 12px;\n",
              "    }\n",
              "\n",
              "    .colab-df-convert {\n",
              "      background-color: #E8F0FE;\n",
              "      border: none;\n",
              "      border-radius: 50%;\n",
              "      cursor: pointer;\n",
              "      display: none;\n",
              "      fill: #1967D2;\n",
              "      height: 32px;\n",
              "      padding: 0 0 0 0;\n",
              "      width: 32px;\n",
              "    }\n",
              "\n",
              "    .colab-df-convert:hover {\n",
              "      background-color: #E2EBFA;\n",
              "      box-shadow: 0px 1px 2px rgba(60, 64, 67, 0.3), 0px 1px 3px 1px rgba(60, 64, 67, 0.15);\n",
              "      fill: #174EA6;\n",
              "    }\n",
              "\n",
              "    [theme=dark] .colab-df-convert {\n",
              "      background-color: #3B4455;\n",
              "      fill: #D2E3FC;\n",
              "    }\n",
              "\n",
              "    [theme=dark] .colab-df-convert:hover {\n",
              "      background-color: #434B5C;\n",
              "      box-shadow: 0px 1px 3px 1px rgba(0, 0, 0, 0.15);\n",
              "      filter: drop-shadow(0px 1px 2px rgba(0, 0, 0, 0.3));\n",
              "      fill: #FFFFFF;\n",
              "    }\n",
              "  </style>\n",
              "\n",
              "      <script>\n",
              "        const buttonEl =\n",
              "          document.querySelector('#df-4aa08f85-3c9e-4d34-8987-e52182160a20 button.colab-df-convert');\n",
              "        buttonEl.style.display =\n",
              "          google.colab.kernel.accessAllowed ? 'block' : 'none';\n",
              "\n",
              "        async function convertToInteractive(key) {\n",
              "          const element = document.querySelector('#df-4aa08f85-3c9e-4d34-8987-e52182160a20');\n",
              "          const dataTable =\n",
              "            await google.colab.kernel.invokeFunction('convertToInteractive',\n",
              "                                                     [key], {});\n",
              "          if (!dataTable) return;\n",
              "\n",
              "          const docLinkHtml = 'Like what you see? Visit the ' +\n",
              "            '<a target=\"_blank\" href=https://colab.research.google.com/notebooks/data_table.ipynb>data table notebook</a>'\n",
              "            + ' to learn more about interactive tables.';\n",
              "          element.innerHTML = '';\n",
              "          dataTable['output_type'] = 'display_data';\n",
              "          await google.colab.output.renderOutput(dataTable, element);\n",
              "          const docLink = document.createElement('div');\n",
              "          docLink.innerHTML = docLinkHtml;\n",
              "          element.appendChild(docLink);\n",
              "        }\n",
              "      </script>\n",
              "    </div>\n",
              "  </div>\n",
              "  "
            ]
          },
          "metadata": {},
          "execution_count": 49
        }
      ]
    },
    {
      "cell_type": "markdown",
      "source": [
        "Ao aplicar o **join()** perceba que os Data Frames ficarão unidos em uma única tabela. Note também que a ordem dos elementos altera a visualização."
      ],
      "metadata": {
        "id": "ekgPqVXkZXy7"
      }
    },
    {
      "cell_type": "code",
      "source": [
        "df5 = df3.join(df4)     #Irá mesclar o df3 ao df4\n",
        "df5"
      ],
      "metadata": {
        "colab": {
          "base_uri": "https://localhost:8080/",
          "height": 0
        },
        "id": "kpbcwYOfqMNe",
        "outputId": "099d6bdb-c617-4d1c-a1a5-f03d4fff2724"
      },
      "execution_count": 50,
      "outputs": [
        {
          "output_type": "execute_result",
          "data": {
            "text/plain": [
              "    Ano     Estado\n",
              "0  1999     Paraná\n",
              "1  2004      Bahia\n",
              "2  1995  São Paulo"
            ],
            "text/html": [
              "\n",
              "  <div id=\"df-858c6b45-6f0a-47d1-bd75-37e748e7a9cb\">\n",
              "    <div class=\"colab-df-container\">\n",
              "      <div>\n",
              "<style scoped>\n",
              "    .dataframe tbody tr th:only-of-type {\n",
              "        vertical-align: middle;\n",
              "    }\n",
              "\n",
              "    .dataframe tbody tr th {\n",
              "        vertical-align: top;\n",
              "    }\n",
              "\n",
              "    .dataframe thead th {\n",
              "        text-align: right;\n",
              "    }\n",
              "</style>\n",
              "<table border=\"1\" class=\"dataframe\">\n",
              "  <thead>\n",
              "    <tr style=\"text-align: right;\">\n",
              "      <th></th>\n",
              "      <th>Ano</th>\n",
              "      <th>Estado</th>\n",
              "    </tr>\n",
              "  </thead>\n",
              "  <tbody>\n",
              "    <tr>\n",
              "      <th>0</th>\n",
              "      <td>1999</td>\n",
              "      <td>Paraná</td>\n",
              "    </tr>\n",
              "    <tr>\n",
              "      <th>1</th>\n",
              "      <td>2004</td>\n",
              "      <td>Bahia</td>\n",
              "    </tr>\n",
              "    <tr>\n",
              "      <th>2</th>\n",
              "      <td>1995</td>\n",
              "      <td>São Paulo</td>\n",
              "    </tr>\n",
              "  </tbody>\n",
              "</table>\n",
              "</div>\n",
              "      <button class=\"colab-df-convert\" onclick=\"convertToInteractive('df-858c6b45-6f0a-47d1-bd75-37e748e7a9cb')\"\n",
              "              title=\"Convert this dataframe to an interactive table.\"\n",
              "              style=\"display:none;\">\n",
              "        \n",
              "  <svg xmlns=\"http://www.w3.org/2000/svg\" height=\"24px\"viewBox=\"0 0 24 24\"\n",
              "       width=\"24px\">\n",
              "    <path d=\"M0 0h24v24H0V0z\" fill=\"none\"/>\n",
              "    <path d=\"M18.56 5.44l.94 2.06.94-2.06 2.06-.94-2.06-.94-.94-2.06-.94 2.06-2.06.94zm-11 1L8.5 8.5l.94-2.06 2.06-.94-2.06-.94L8.5 2.5l-.94 2.06-2.06.94zm10 10l.94 2.06.94-2.06 2.06-.94-2.06-.94-.94-2.06-.94 2.06-2.06.94z\"/><path d=\"M17.41 7.96l-1.37-1.37c-.4-.4-.92-.59-1.43-.59-.52 0-1.04.2-1.43.59L10.3 9.45l-7.72 7.72c-.78.78-.78 2.05 0 2.83L4 21.41c.39.39.9.59 1.41.59.51 0 1.02-.2 1.41-.59l7.78-7.78 2.81-2.81c.8-.78.8-2.07 0-2.86zM5.41 20L4 18.59l7.72-7.72 1.47 1.35L5.41 20z\"/>\n",
              "  </svg>\n",
              "      </button>\n",
              "      \n",
              "  <style>\n",
              "    .colab-df-container {\n",
              "      display:flex;\n",
              "      flex-wrap:wrap;\n",
              "      gap: 12px;\n",
              "    }\n",
              "\n",
              "    .colab-df-convert {\n",
              "      background-color: #E8F0FE;\n",
              "      border: none;\n",
              "      border-radius: 50%;\n",
              "      cursor: pointer;\n",
              "      display: none;\n",
              "      fill: #1967D2;\n",
              "      height: 32px;\n",
              "      padding: 0 0 0 0;\n",
              "      width: 32px;\n",
              "    }\n",
              "\n",
              "    .colab-df-convert:hover {\n",
              "      background-color: #E2EBFA;\n",
              "      box-shadow: 0px 1px 2px rgba(60, 64, 67, 0.3), 0px 1px 3px 1px rgba(60, 64, 67, 0.15);\n",
              "      fill: #174EA6;\n",
              "    }\n",
              "\n",
              "    [theme=dark] .colab-df-convert {\n",
              "      background-color: #3B4455;\n",
              "      fill: #D2E3FC;\n",
              "    }\n",
              "\n",
              "    [theme=dark] .colab-df-convert:hover {\n",
              "      background-color: #434B5C;\n",
              "      box-shadow: 0px 1px 3px 1px rgba(0, 0, 0, 0.15);\n",
              "      filter: drop-shadow(0px 1px 2px rgba(0, 0, 0, 0.3));\n",
              "      fill: #FFFFFF;\n",
              "    }\n",
              "  </style>\n",
              "\n",
              "      <script>\n",
              "        const buttonEl =\n",
              "          document.querySelector('#df-858c6b45-6f0a-47d1-bd75-37e748e7a9cb button.colab-df-convert');\n",
              "        buttonEl.style.display =\n",
              "          google.colab.kernel.accessAllowed ? 'block' : 'none';\n",
              "\n",
              "        async function convertToInteractive(key) {\n",
              "          const element = document.querySelector('#df-858c6b45-6f0a-47d1-bd75-37e748e7a9cb');\n",
              "          const dataTable =\n",
              "            await google.colab.kernel.invokeFunction('convertToInteractive',\n",
              "                                                     [key], {});\n",
              "          if (!dataTable) return;\n",
              "\n",
              "          const docLinkHtml = 'Like what you see? Visit the ' +\n",
              "            '<a target=\"_blank\" href=https://colab.research.google.com/notebooks/data_table.ipynb>data table notebook</a>'\n",
              "            + ' to learn more about interactive tables.';\n",
              "          element.innerHTML = '';\n",
              "          dataTable['output_type'] = 'display_data';\n",
              "          await google.colab.output.renderOutput(dataTable, element);\n",
              "          const docLink = document.createElement('div');\n",
              "          docLink.innerHTML = docLinkHtml;\n",
              "          element.appendChild(docLink);\n",
              "        }\n",
              "      </script>\n",
              "    </div>\n",
              "  </div>\n",
              "  "
            ]
          },
          "metadata": {},
          "execution_count": 50
        }
      ]
    },
    {
      "cell_type": "code",
      "source": [
        "df6 = df4.join(df3)     #Irá alterar a ordem, mesclando df4 ao df3\n",
        "df6"
      ],
      "metadata": {
        "id": "26ea29KA_pWV",
        "colab": {
          "base_uri": "https://localhost:8080/",
          "height": 0
        },
        "outputId": "e3528ec8-2c27-4129-c54e-bdcb8fe818d9"
      },
      "execution_count": 51,
      "outputs": [
        {
          "output_type": "execute_result",
          "data": {
            "text/plain": [
              "      Estado   Ano\n",
              "0     Paraná  1999\n",
              "1      Bahia  2004\n",
              "2  São Paulo  1995"
            ],
            "text/html": [
              "\n",
              "  <div id=\"df-9343c354-e1f1-434f-8a76-c9036d23ad12\">\n",
              "    <div class=\"colab-df-container\">\n",
              "      <div>\n",
              "<style scoped>\n",
              "    .dataframe tbody tr th:only-of-type {\n",
              "        vertical-align: middle;\n",
              "    }\n",
              "\n",
              "    .dataframe tbody tr th {\n",
              "        vertical-align: top;\n",
              "    }\n",
              "\n",
              "    .dataframe thead th {\n",
              "        text-align: right;\n",
              "    }\n",
              "</style>\n",
              "<table border=\"1\" class=\"dataframe\">\n",
              "  <thead>\n",
              "    <tr style=\"text-align: right;\">\n",
              "      <th></th>\n",
              "      <th>Estado</th>\n",
              "      <th>Ano</th>\n",
              "    </tr>\n",
              "  </thead>\n",
              "  <tbody>\n",
              "    <tr>\n",
              "      <th>0</th>\n",
              "      <td>Paraná</td>\n",
              "      <td>1999</td>\n",
              "    </tr>\n",
              "    <tr>\n",
              "      <th>1</th>\n",
              "      <td>Bahia</td>\n",
              "      <td>2004</td>\n",
              "    </tr>\n",
              "    <tr>\n",
              "      <th>2</th>\n",
              "      <td>São Paulo</td>\n",
              "      <td>1995</td>\n",
              "    </tr>\n",
              "  </tbody>\n",
              "</table>\n",
              "</div>\n",
              "      <button class=\"colab-df-convert\" onclick=\"convertToInteractive('df-9343c354-e1f1-434f-8a76-c9036d23ad12')\"\n",
              "              title=\"Convert this dataframe to an interactive table.\"\n",
              "              style=\"display:none;\">\n",
              "        \n",
              "  <svg xmlns=\"http://www.w3.org/2000/svg\" height=\"24px\"viewBox=\"0 0 24 24\"\n",
              "       width=\"24px\">\n",
              "    <path d=\"M0 0h24v24H0V0z\" fill=\"none\"/>\n",
              "    <path d=\"M18.56 5.44l.94 2.06.94-2.06 2.06-.94-2.06-.94-.94-2.06-.94 2.06-2.06.94zm-11 1L8.5 8.5l.94-2.06 2.06-.94-2.06-.94L8.5 2.5l-.94 2.06-2.06.94zm10 10l.94 2.06.94-2.06 2.06-.94-2.06-.94-.94-2.06-.94 2.06-2.06.94z\"/><path d=\"M17.41 7.96l-1.37-1.37c-.4-.4-.92-.59-1.43-.59-.52 0-1.04.2-1.43.59L10.3 9.45l-7.72 7.72c-.78.78-.78 2.05 0 2.83L4 21.41c.39.39.9.59 1.41.59.51 0 1.02-.2 1.41-.59l7.78-7.78 2.81-2.81c.8-.78.8-2.07 0-2.86zM5.41 20L4 18.59l7.72-7.72 1.47 1.35L5.41 20z\"/>\n",
              "  </svg>\n",
              "      </button>\n",
              "      \n",
              "  <style>\n",
              "    .colab-df-container {\n",
              "      display:flex;\n",
              "      flex-wrap:wrap;\n",
              "      gap: 12px;\n",
              "    }\n",
              "\n",
              "    .colab-df-convert {\n",
              "      background-color: #E8F0FE;\n",
              "      border: none;\n",
              "      border-radius: 50%;\n",
              "      cursor: pointer;\n",
              "      display: none;\n",
              "      fill: #1967D2;\n",
              "      height: 32px;\n",
              "      padding: 0 0 0 0;\n",
              "      width: 32px;\n",
              "    }\n",
              "\n",
              "    .colab-df-convert:hover {\n",
              "      background-color: #E2EBFA;\n",
              "      box-shadow: 0px 1px 2px rgba(60, 64, 67, 0.3), 0px 1px 3px 1px rgba(60, 64, 67, 0.15);\n",
              "      fill: #174EA6;\n",
              "    }\n",
              "\n",
              "    [theme=dark] .colab-df-convert {\n",
              "      background-color: #3B4455;\n",
              "      fill: #D2E3FC;\n",
              "    }\n",
              "\n",
              "    [theme=dark] .colab-df-convert:hover {\n",
              "      background-color: #434B5C;\n",
              "      box-shadow: 0px 1px 3px 1px rgba(0, 0, 0, 0.15);\n",
              "      filter: drop-shadow(0px 1px 2px rgba(0, 0, 0, 0.3));\n",
              "      fill: #FFFFFF;\n",
              "    }\n",
              "  </style>\n",
              "\n",
              "      <script>\n",
              "        const buttonEl =\n",
              "          document.querySelector('#df-9343c354-e1f1-434f-8a76-c9036d23ad12 button.colab-df-convert');\n",
              "        buttonEl.style.display =\n",
              "          google.colab.kernel.accessAllowed ? 'block' : 'none';\n",
              "\n",
              "        async function convertToInteractive(key) {\n",
              "          const element = document.querySelector('#df-9343c354-e1f1-434f-8a76-c9036d23ad12');\n",
              "          const dataTable =\n",
              "            await google.colab.kernel.invokeFunction('convertToInteractive',\n",
              "                                                     [key], {});\n",
              "          if (!dataTable) return;\n",
              "\n",
              "          const docLinkHtml = 'Like what you see? Visit the ' +\n",
              "            '<a target=\"_blank\" href=https://colab.research.google.com/notebooks/data_table.ipynb>data table notebook</a>'\n",
              "            + ' to learn more about interactive tables.';\n",
              "          element.innerHTML = '';\n",
              "          dataTable['output_type'] = 'display_data';\n",
              "          await google.colab.output.renderOutput(dataTable, element);\n",
              "          const docLink = document.createElement('div');\n",
              "          docLink.innerHTML = docLinkHtml;\n",
              "          element.appendChild(docLink);\n",
              "        }\n",
              "      </script>\n",
              "    </div>\n",
              "  </div>\n",
              "  "
            ]
          },
          "metadata": {},
          "execution_count": 51
        }
      ]
    },
    {
      "cell_type": "markdown",
      "source": [
        "#####Merge"
      ],
      "metadata": {
        "id": "eBdaKlikqOvb"
      }
    },
    {
      "cell_type": "markdown",
      "source": [
        "Utilizado para fundir dois Data Frames, sendo **similar ao Join**, porém,  é necessário existir **uma coluna em comum** entre os dois. "
      ],
      "metadata": {
        "id": "sCMO6Oo3qRhU"
      }
    },
    {
      "cell_type": "code",
      "source": [
        "df7 = pd.merge(df3, df6)       #A coluna Ano existe em ambos os Data Frames\n",
        "df7"
      ],
      "metadata": {
        "id": "5JP79bxYqVHH",
        "colab": {
          "base_uri": "https://localhost:8080/",
          "height": 0
        },
        "outputId": "6fca84ae-fcdc-43cd-b9fb-3445873129be"
      },
      "execution_count": 52,
      "outputs": [
        {
          "output_type": "execute_result",
          "data": {
            "text/plain": [
              "    Ano     Estado\n",
              "0  1999     Paraná\n",
              "1  2004      Bahia\n",
              "2  1995  São Paulo"
            ],
            "text/html": [
              "\n",
              "  <div id=\"df-efc8f0d9-8611-42a8-8468-bffe574ba1f3\">\n",
              "    <div class=\"colab-df-container\">\n",
              "      <div>\n",
              "<style scoped>\n",
              "    .dataframe tbody tr th:only-of-type {\n",
              "        vertical-align: middle;\n",
              "    }\n",
              "\n",
              "    .dataframe tbody tr th {\n",
              "        vertical-align: top;\n",
              "    }\n",
              "\n",
              "    .dataframe thead th {\n",
              "        text-align: right;\n",
              "    }\n",
              "</style>\n",
              "<table border=\"1\" class=\"dataframe\">\n",
              "  <thead>\n",
              "    <tr style=\"text-align: right;\">\n",
              "      <th></th>\n",
              "      <th>Ano</th>\n",
              "      <th>Estado</th>\n",
              "    </tr>\n",
              "  </thead>\n",
              "  <tbody>\n",
              "    <tr>\n",
              "      <th>0</th>\n",
              "      <td>1999</td>\n",
              "      <td>Paraná</td>\n",
              "    </tr>\n",
              "    <tr>\n",
              "      <th>1</th>\n",
              "      <td>2004</td>\n",
              "      <td>Bahia</td>\n",
              "    </tr>\n",
              "    <tr>\n",
              "      <th>2</th>\n",
              "      <td>1995</td>\n",
              "      <td>São Paulo</td>\n",
              "    </tr>\n",
              "  </tbody>\n",
              "</table>\n",
              "</div>\n",
              "      <button class=\"colab-df-convert\" onclick=\"convertToInteractive('df-efc8f0d9-8611-42a8-8468-bffe574ba1f3')\"\n",
              "              title=\"Convert this dataframe to an interactive table.\"\n",
              "              style=\"display:none;\">\n",
              "        \n",
              "  <svg xmlns=\"http://www.w3.org/2000/svg\" height=\"24px\"viewBox=\"0 0 24 24\"\n",
              "       width=\"24px\">\n",
              "    <path d=\"M0 0h24v24H0V0z\" fill=\"none\"/>\n",
              "    <path d=\"M18.56 5.44l.94 2.06.94-2.06 2.06-.94-2.06-.94-.94-2.06-.94 2.06-2.06.94zm-11 1L8.5 8.5l.94-2.06 2.06-.94-2.06-.94L8.5 2.5l-.94 2.06-2.06.94zm10 10l.94 2.06.94-2.06 2.06-.94-2.06-.94-.94-2.06-.94 2.06-2.06.94z\"/><path d=\"M17.41 7.96l-1.37-1.37c-.4-.4-.92-.59-1.43-.59-.52 0-1.04.2-1.43.59L10.3 9.45l-7.72 7.72c-.78.78-.78 2.05 0 2.83L4 21.41c.39.39.9.59 1.41.59.51 0 1.02-.2 1.41-.59l7.78-7.78 2.81-2.81c.8-.78.8-2.07 0-2.86zM5.41 20L4 18.59l7.72-7.72 1.47 1.35L5.41 20z\"/>\n",
              "  </svg>\n",
              "      </button>\n",
              "      \n",
              "  <style>\n",
              "    .colab-df-container {\n",
              "      display:flex;\n",
              "      flex-wrap:wrap;\n",
              "      gap: 12px;\n",
              "    }\n",
              "\n",
              "    .colab-df-convert {\n",
              "      background-color: #E8F0FE;\n",
              "      border: none;\n",
              "      border-radius: 50%;\n",
              "      cursor: pointer;\n",
              "      display: none;\n",
              "      fill: #1967D2;\n",
              "      height: 32px;\n",
              "      padding: 0 0 0 0;\n",
              "      width: 32px;\n",
              "    }\n",
              "\n",
              "    .colab-df-convert:hover {\n",
              "      background-color: #E2EBFA;\n",
              "      box-shadow: 0px 1px 2px rgba(60, 64, 67, 0.3), 0px 1px 3px 1px rgba(60, 64, 67, 0.15);\n",
              "      fill: #174EA6;\n",
              "    }\n",
              "\n",
              "    [theme=dark] .colab-df-convert {\n",
              "      background-color: #3B4455;\n",
              "      fill: #D2E3FC;\n",
              "    }\n",
              "\n",
              "    [theme=dark] .colab-df-convert:hover {\n",
              "      background-color: #434B5C;\n",
              "      box-shadow: 0px 1px 3px 1px rgba(0, 0, 0, 0.15);\n",
              "      filter: drop-shadow(0px 1px 2px rgba(0, 0, 0, 0.3));\n",
              "      fill: #FFFFFF;\n",
              "    }\n",
              "  </style>\n",
              "\n",
              "      <script>\n",
              "        const buttonEl =\n",
              "          document.querySelector('#df-efc8f0d9-8611-42a8-8468-bffe574ba1f3 button.colab-df-convert');\n",
              "        buttonEl.style.display =\n",
              "          google.colab.kernel.accessAllowed ? 'block' : 'none';\n",
              "\n",
              "        async function convertToInteractive(key) {\n",
              "          const element = document.querySelector('#df-efc8f0d9-8611-42a8-8468-bffe574ba1f3');\n",
              "          const dataTable =\n",
              "            await google.colab.kernel.invokeFunction('convertToInteractive',\n",
              "                                                     [key], {});\n",
              "          if (!dataTable) return;\n",
              "\n",
              "          const docLinkHtml = 'Like what you see? Visit the ' +\n",
              "            '<a target=\"_blank\" href=https://colab.research.google.com/notebooks/data_table.ipynb>data table notebook</a>'\n",
              "            + ' to learn more about interactive tables.';\n",
              "          element.innerHTML = '';\n",
              "          dataTable['output_type'] = 'display_data';\n",
              "          await google.colab.output.renderOutput(dataTable, element);\n",
              "          const docLink = document.createElement('div');\n",
              "          docLink.innerHTML = docLinkHtml;\n",
              "          element.appendChild(docLink);\n",
              "        }\n",
              "      </script>\n",
              "    </div>\n",
              "  </div>\n",
              "  "
            ]
          },
          "metadata": {},
          "execution_count": 52
        }
      ]
    },
    {
      "cell_type": "markdown",
      "source": [
        "###Leitura de Arquivos"
      ],
      "metadata": {
        "id": "IO7duEBJqycJ"
      }
    },
    {
      "cell_type": "markdown",
      "source": [
        "O Pandas é capaz de ler diversos tipos de arquivos através do camando **read_tipodoarquivo**. Nesse documento, vamos exemplificar alguns tipos mais usados, porém, para saber mais a respeito, indicamos a leitura da documentação.\n",
        "\n",
        "\n",
        "\n",
        "*   **read_table:** Leitura de arquivos .txt no formato ASC\n",
        "*   **read_csv:** Leitura de arquivo csv (Comma Separate Value – Os dados são separados por vírgulas).\n",
        "*   **read_excel:** Leitura de arquivo Excel\n",
        "*   **read_sql:** Leitura de arquivos SQL (utilizado em banco de dados)\n",
        "*   **read_json:** Leitura de arquivos json (Línguagem de programação Web)\n",
        "\n",
        "\n",
        "\n",
        "\n"
      ],
      "metadata": {
        "id": "ysvB-AEtq2LQ"
      }
    },
    {
      "cell_type": "markdown",
      "source": [
        "Nesse exemplo, a variável **df** recebe a leitura da tabela em **nome do arquivo.txt - em forma de string (entre aspas)** e é separada pelos espaços em branco."
      ],
      "metadata": {
        "id": "BTnfzL-Oq9YX"
      }
    },
    {
      "cell_type": "markdown",
      "source": [
        "**Nota: Para abrir um arquivo utilizando o Google Colab, clique em Arquivos na barra lateral esquerda e selecione Fazer upload, posteriormente, escolha a pasta onde está salvo o arquivo verbos.txt**"
      ],
      "metadata": {
        "id": "Xy4Jf1zfg95a"
      }
    },
    {
      "cell_type": "code",
      "source": [
        "df = pd.read_table('verbos.txt', delim_whitespace=True) \n",
        "df"
      ],
      "metadata": {
        "id": "JIppAPj2rFtt",
        "colab": {
          "base_uri": "https://localhost:8080/",
          "height": 346
        },
        "outputId": "46566e0f-01b2-4fd8-879c-36bd796d68a4"
      },
      "execution_count": 53,
      "outputs": [
        {
          "output_type": "error",
          "ename": "FileNotFoundError",
          "evalue": "ignored",
          "traceback": [
            "\u001b[0;31m---------------------------------------------------------------------------\u001b[0m",
            "\u001b[0;31mFileNotFoundError\u001b[0m                         Traceback (most recent call last)",
            "\u001b[0;32m<ipython-input-53-fb8191784085>\u001b[0m in \u001b[0;36m<cell line: 1>\u001b[0;34m()\u001b[0m\n\u001b[0;32m----> 1\u001b[0;31m \u001b[0mdf\u001b[0m \u001b[0;34m=\u001b[0m \u001b[0mpd\u001b[0m\u001b[0;34m.\u001b[0m\u001b[0mread_table\u001b[0m\u001b[0;34m(\u001b[0m\u001b[0;34m'verbos.txt'\u001b[0m\u001b[0;34m,\u001b[0m \u001b[0mdelim_whitespace\u001b[0m\u001b[0;34m=\u001b[0m\u001b[0;32mTrue\u001b[0m\u001b[0;34m)\u001b[0m\u001b[0;34m\u001b[0m\u001b[0;34m\u001b[0m\u001b[0m\n\u001b[0m\u001b[1;32m      2\u001b[0m \u001b[0mdf\u001b[0m\u001b[0;34m\u001b[0m\u001b[0;34m\u001b[0m\u001b[0m\n",
            "\u001b[0;32m/usr/local/lib/python3.9/dist-packages/pandas/util/_decorators.py\u001b[0m in \u001b[0;36mwrapper\u001b[0;34m(*args, **kwargs)\u001b[0m\n\u001b[1;32m    209\u001b[0m                 \u001b[0;32melse\u001b[0m\u001b[0;34m:\u001b[0m\u001b[0;34m\u001b[0m\u001b[0;34m\u001b[0m\u001b[0m\n\u001b[1;32m    210\u001b[0m                     \u001b[0mkwargs\u001b[0m\u001b[0;34m[\u001b[0m\u001b[0mnew_arg_name\u001b[0m\u001b[0;34m]\u001b[0m \u001b[0;34m=\u001b[0m \u001b[0mnew_arg_value\u001b[0m\u001b[0;34m\u001b[0m\u001b[0;34m\u001b[0m\u001b[0m\n\u001b[0;32m--> 211\u001b[0;31m             \u001b[0;32mreturn\u001b[0m \u001b[0mfunc\u001b[0m\u001b[0;34m(\u001b[0m\u001b[0;34m*\u001b[0m\u001b[0margs\u001b[0m\u001b[0;34m,\u001b[0m \u001b[0;34m**\u001b[0m\u001b[0mkwargs\u001b[0m\u001b[0;34m)\u001b[0m\u001b[0;34m\u001b[0m\u001b[0;34m\u001b[0m\u001b[0m\n\u001b[0m\u001b[1;32m    212\u001b[0m \u001b[0;34m\u001b[0m\u001b[0m\n\u001b[1;32m    213\u001b[0m         \u001b[0;32mreturn\u001b[0m \u001b[0mcast\u001b[0m\u001b[0;34m(\u001b[0m\u001b[0mF\u001b[0m\u001b[0;34m,\u001b[0m \u001b[0mwrapper\u001b[0m\u001b[0;34m)\u001b[0m\u001b[0;34m\u001b[0m\u001b[0;34m\u001b[0m\u001b[0m\n",
            "\u001b[0;32m/usr/local/lib/python3.9/dist-packages/pandas/util/_decorators.py\u001b[0m in \u001b[0;36mwrapper\u001b[0;34m(*args, **kwargs)\u001b[0m\n\u001b[1;32m    329\u001b[0m                     \u001b[0mstacklevel\u001b[0m\u001b[0;34m=\u001b[0m\u001b[0mfind_stack_level\u001b[0m\u001b[0;34m(\u001b[0m\u001b[0;34m)\u001b[0m\u001b[0;34m,\u001b[0m\u001b[0;34m\u001b[0m\u001b[0;34m\u001b[0m\u001b[0m\n\u001b[1;32m    330\u001b[0m                 )\n\u001b[0;32m--> 331\u001b[0;31m             \u001b[0;32mreturn\u001b[0m \u001b[0mfunc\u001b[0m\u001b[0;34m(\u001b[0m\u001b[0;34m*\u001b[0m\u001b[0margs\u001b[0m\u001b[0;34m,\u001b[0m \u001b[0;34m**\u001b[0m\u001b[0mkwargs\u001b[0m\u001b[0;34m)\u001b[0m\u001b[0;34m\u001b[0m\u001b[0;34m\u001b[0m\u001b[0m\n\u001b[0m\u001b[1;32m    332\u001b[0m \u001b[0;34m\u001b[0m\u001b[0m\n\u001b[1;32m    333\u001b[0m         \u001b[0;31m# error: \"Callable[[VarArg(Any), KwArg(Any)], Any]\" has no\u001b[0m\u001b[0;34m\u001b[0m\u001b[0;34m\u001b[0m\u001b[0m\n",
            "\u001b[0;32m/usr/local/lib/python3.9/dist-packages/pandas/io/parsers/readers.py\u001b[0m in \u001b[0;36mread_table\u001b[0;34m(filepath_or_buffer, sep, delimiter, header, names, index_col, usecols, squeeze, prefix, mangle_dupe_cols, dtype, engine, converters, true_values, false_values, skipinitialspace, skiprows, skipfooter, nrows, na_values, keep_default_na, na_filter, verbose, skip_blank_lines, parse_dates, infer_datetime_format, keep_date_col, date_parser, dayfirst, cache_dates, iterator, chunksize, compression, thousands, decimal, lineterminator, quotechar, quoting, doublequote, escapechar, comment, encoding, encoding_errors, dialect, error_bad_lines, warn_bad_lines, on_bad_lines, delim_whitespace, low_memory, memory_map, float_precision, storage_options)\u001b[0m\n\u001b[1;32m   1287\u001b[0m     \u001b[0mkwds\u001b[0m\u001b[0;34m.\u001b[0m\u001b[0mupdate\u001b[0m\u001b[0;34m(\u001b[0m\u001b[0mkwds_defaults\u001b[0m\u001b[0;34m)\u001b[0m\u001b[0;34m\u001b[0m\u001b[0;34m\u001b[0m\u001b[0m\n\u001b[1;32m   1288\u001b[0m \u001b[0;34m\u001b[0m\u001b[0m\n\u001b[0;32m-> 1289\u001b[0;31m     \u001b[0;32mreturn\u001b[0m \u001b[0m_read\u001b[0m\u001b[0;34m(\u001b[0m\u001b[0mfilepath_or_buffer\u001b[0m\u001b[0;34m,\u001b[0m \u001b[0mkwds\u001b[0m\u001b[0;34m)\u001b[0m\u001b[0;34m\u001b[0m\u001b[0;34m\u001b[0m\u001b[0m\n\u001b[0m\u001b[1;32m   1290\u001b[0m \u001b[0;34m\u001b[0m\u001b[0m\n\u001b[1;32m   1291\u001b[0m \u001b[0;34m\u001b[0m\u001b[0m\n",
            "\u001b[0;32m/usr/local/lib/python3.9/dist-packages/pandas/io/parsers/readers.py\u001b[0m in \u001b[0;36m_read\u001b[0;34m(filepath_or_buffer, kwds)\u001b[0m\n\u001b[1;32m    603\u001b[0m \u001b[0;34m\u001b[0m\u001b[0m\n\u001b[1;32m    604\u001b[0m     \u001b[0;31m# Create the parser.\u001b[0m\u001b[0;34m\u001b[0m\u001b[0;34m\u001b[0m\u001b[0m\n\u001b[0;32m--> 605\u001b[0;31m     \u001b[0mparser\u001b[0m \u001b[0;34m=\u001b[0m \u001b[0mTextFileReader\u001b[0m\u001b[0;34m(\u001b[0m\u001b[0mfilepath_or_buffer\u001b[0m\u001b[0;34m,\u001b[0m \u001b[0;34m**\u001b[0m\u001b[0mkwds\u001b[0m\u001b[0;34m)\u001b[0m\u001b[0;34m\u001b[0m\u001b[0;34m\u001b[0m\u001b[0m\n\u001b[0m\u001b[1;32m    606\u001b[0m \u001b[0;34m\u001b[0m\u001b[0m\n\u001b[1;32m    607\u001b[0m     \u001b[0;32mif\u001b[0m \u001b[0mchunksize\u001b[0m \u001b[0;32mor\u001b[0m \u001b[0miterator\u001b[0m\u001b[0;34m:\u001b[0m\u001b[0;34m\u001b[0m\u001b[0;34m\u001b[0m\u001b[0m\n",
            "\u001b[0;32m/usr/local/lib/python3.9/dist-packages/pandas/io/parsers/readers.py\u001b[0m in \u001b[0;36m__init__\u001b[0;34m(self, f, engine, **kwds)\u001b[0m\n\u001b[1;32m   1440\u001b[0m \u001b[0;34m\u001b[0m\u001b[0m\n\u001b[1;32m   1441\u001b[0m         \u001b[0mself\u001b[0m\u001b[0;34m.\u001b[0m\u001b[0mhandles\u001b[0m\u001b[0;34m:\u001b[0m \u001b[0mIOHandles\u001b[0m \u001b[0;34m|\u001b[0m \u001b[0;32mNone\u001b[0m \u001b[0;34m=\u001b[0m \u001b[0;32mNone\u001b[0m\u001b[0;34m\u001b[0m\u001b[0;34m\u001b[0m\u001b[0m\n\u001b[0;32m-> 1442\u001b[0;31m         \u001b[0mself\u001b[0m\u001b[0;34m.\u001b[0m\u001b[0m_engine\u001b[0m \u001b[0;34m=\u001b[0m \u001b[0mself\u001b[0m\u001b[0;34m.\u001b[0m\u001b[0m_make_engine\u001b[0m\u001b[0;34m(\u001b[0m\u001b[0mf\u001b[0m\u001b[0;34m,\u001b[0m \u001b[0mself\u001b[0m\u001b[0;34m.\u001b[0m\u001b[0mengine\u001b[0m\u001b[0;34m)\u001b[0m\u001b[0;34m\u001b[0m\u001b[0;34m\u001b[0m\u001b[0m\n\u001b[0m\u001b[1;32m   1443\u001b[0m \u001b[0;34m\u001b[0m\u001b[0m\n\u001b[1;32m   1444\u001b[0m     \u001b[0;32mdef\u001b[0m \u001b[0mclose\u001b[0m\u001b[0;34m(\u001b[0m\u001b[0mself\u001b[0m\u001b[0;34m)\u001b[0m \u001b[0;34m->\u001b[0m \u001b[0;32mNone\u001b[0m\u001b[0;34m:\u001b[0m\u001b[0;34m\u001b[0m\u001b[0;34m\u001b[0m\u001b[0m\n",
            "\u001b[0;32m/usr/local/lib/python3.9/dist-packages/pandas/io/parsers/readers.py\u001b[0m in \u001b[0;36m_make_engine\u001b[0;34m(self, f, engine)\u001b[0m\n\u001b[1;32m   1733\u001b[0m                 \u001b[0;32mif\u001b[0m \u001b[0;34m\"b\"\u001b[0m \u001b[0;32mnot\u001b[0m \u001b[0;32min\u001b[0m \u001b[0mmode\u001b[0m\u001b[0;34m:\u001b[0m\u001b[0;34m\u001b[0m\u001b[0;34m\u001b[0m\u001b[0m\n\u001b[1;32m   1734\u001b[0m                     \u001b[0mmode\u001b[0m \u001b[0;34m+=\u001b[0m \u001b[0;34m\"b\"\u001b[0m\u001b[0;34m\u001b[0m\u001b[0;34m\u001b[0m\u001b[0m\n\u001b[0;32m-> 1735\u001b[0;31m             self.handles = get_handle(\n\u001b[0m\u001b[1;32m   1736\u001b[0m                 \u001b[0mf\u001b[0m\u001b[0;34m,\u001b[0m\u001b[0;34m\u001b[0m\u001b[0;34m\u001b[0m\u001b[0m\n\u001b[1;32m   1737\u001b[0m                 \u001b[0mmode\u001b[0m\u001b[0;34m,\u001b[0m\u001b[0;34m\u001b[0m\u001b[0;34m\u001b[0m\u001b[0m\n",
            "\u001b[0;32m/usr/local/lib/python3.9/dist-packages/pandas/io/common.py\u001b[0m in \u001b[0;36mget_handle\u001b[0;34m(path_or_buf, mode, encoding, compression, memory_map, is_text, errors, storage_options)\u001b[0m\n\u001b[1;32m    854\u001b[0m         \u001b[0;32mif\u001b[0m \u001b[0mioargs\u001b[0m\u001b[0;34m.\u001b[0m\u001b[0mencoding\u001b[0m \u001b[0;32mand\u001b[0m \u001b[0;34m\"b\"\u001b[0m \u001b[0;32mnot\u001b[0m \u001b[0;32min\u001b[0m \u001b[0mioargs\u001b[0m\u001b[0;34m.\u001b[0m\u001b[0mmode\u001b[0m\u001b[0;34m:\u001b[0m\u001b[0;34m\u001b[0m\u001b[0;34m\u001b[0m\u001b[0m\n\u001b[1;32m    855\u001b[0m             \u001b[0;31m# Encoding\u001b[0m\u001b[0;34m\u001b[0m\u001b[0;34m\u001b[0m\u001b[0m\n\u001b[0;32m--> 856\u001b[0;31m             handle = open(\n\u001b[0m\u001b[1;32m    857\u001b[0m                 \u001b[0mhandle\u001b[0m\u001b[0;34m,\u001b[0m\u001b[0;34m\u001b[0m\u001b[0;34m\u001b[0m\u001b[0m\n\u001b[1;32m    858\u001b[0m                 \u001b[0mioargs\u001b[0m\u001b[0;34m.\u001b[0m\u001b[0mmode\u001b[0m\u001b[0;34m,\u001b[0m\u001b[0;34m\u001b[0m\u001b[0;34m\u001b[0m\u001b[0m\n",
            "\u001b[0;31mFileNotFoundError\u001b[0m: [Errno 2] No such file or directory: 'verbos.txt'"
          ]
        }
      ]
    },
    {
      "cell_type": "markdown",
      "source": [
        "#####Arquivo CSV"
      ],
      "metadata": {
        "id": "KtkjupYorBkJ"
      }
    },
    {
      "cell_type": "markdown",
      "source": [
        "Para criar um Data Frame a partir de um arquivo CSV utiliza-se o método **read_csv()**. Geralmente, cria-se um Data Frame com Pandas a partir de uma fonte de dados, que pode ser um arquivo CSV, banco de dados relacional, banco de dados SQL, planilha do Excel, etc."
      ],
      "metadata": {
        "id": "sVkwO4JXrKCz"
      }
    },
    {
      "cell_type": "markdown",
      "source": [
        "**Nota: Para abrir um arquivo utilizando o Google Colab, clique em Arquivos na barra lateral esquerda e selecione Fazer upload, posteriormente, escolha a pasta onde está salvo o arquivo exemplo.csv**"
      ],
      "metadata": {
        "id": "QQkdHs8uic3C"
      }
    },
    {
      "cell_type": "code",
      "source": [
        "df = pd.read_csv('exemplo.csv')\n",
        "df"
      ],
      "metadata": {
        "id": "SFbiw0DVrOx8"
      },
      "execution_count": null,
      "outputs": []
    },
    {
      "cell_type": "markdown",
      "source": [
        "Também é possível usar o método **read_table()**, porém, diferente do método anterior, é necessário definir qual será o separador:"
      ],
      "metadata": {
        "id": "vElH0TxNrTme"
      }
    },
    {
      "cell_type": "markdown",
      "source": [
        "**O separador também funciona no exemplo anterior**"
      ],
      "metadata": {
        "id": "nsezhQ_1jpgl"
      }
    },
    {
      "cell_type": "code",
      "source": [
        "df = pd.read_table('exemplo.csv', sep = ';')  #Lê a tabela separando as colunas por ponto e vírgula virgulas.\n",
        "df      "
      ],
      "metadata": {
        "id": "1ZBqfqpLrXWs"
      },
      "execution_count": null,
      "outputs": []
    },
    {
      "cell_type": "markdown",
      "source": [
        "Para o comando a seguir é necessário **atenção**, pois no **Mac** e no **Linux**, ele executa as primeiras linhas do arquivo. No **Windows** é necessário escrever **!type**.\n"
      ],
      "metadata": {
        "id": "ZBEtHZLmC7iF"
      }
    },
    {
      "cell_type": "code",
      "source": [
        "!head exemplo.csv\n"
      ],
      "metadata": {
        "id": "3zUGc451DO__"
      },
      "execution_count": null,
      "outputs": []
    },
    {
      "cell_type": "code",
      "source": [
        "!pwd   #Exibe o diretório"
      ],
      "metadata": {
        "id": "tU95bNnLkGF9"
      },
      "execution_count": null,
      "outputs": []
    },
    {
      "cell_type": "markdown",
      "source": [
        "Do mesmo modo que descrevemos anteriormente, podemos nomear as colunas:"
      ],
      "metadata": {
        "id": "qC0Mgortra8E"
      }
    },
    {
      "cell_type": "code",
      "source": [
        "df = pd.read_csv('exemplo.csv', sep =';', names = ['a', 'b', 'c'])\n",
        "df    "
      ],
      "metadata": {
        "id": "dVbI7lxJrdSJ"
      },
      "execution_count": null,
      "outputs": []
    },
    {
      "cell_type": "markdown",
      "source": [
        "#####Converter Data Frame em Arquivo CSV"
      ],
      "metadata": {
        "id": "FSO8C7TiDpRY"
      }
    },
    {
      "cell_type": "markdown",
      "source": [
        "Para converter um **Data Frame** em um **arquivo CSV** é necessário importar a **biblioteca sys**."
      ],
      "metadata": {
        "id": "Onx2c5PlrjE2"
      }
    },
    {
      "cell_type": "markdown",
      "source": [
        "Ela permite a utilização do método **stdout()** que converte o Data Frame para CSV e nesse caso, modificou o separador para | que separam as colunas e seus respectivos dados."
      ],
      "metadata": {
        "id": "qKj7__PzEJYO"
      }
    },
    {
      "cell_type": "code",
      "source": [
        "type(frame)"
      ],
      "metadata": {
        "id": "0I84dDeAll4S"
      },
      "execution_count": null,
      "outputs": []
    },
    {
      "cell_type": "code",
      "source": [
        "import sys\n",
        "frame = frame.to_csv(sys.stdout, sep = '|') "
      ],
      "metadata": {
        "id": "xQsgF9ztrkJ9"
      },
      "execution_count": null,
      "outputs": []
    },
    {
      "cell_type": "markdown",
      "source": [
        "###Gráficos"
      ],
      "metadata": {
        "id": "6HfXtI54rnDJ"
      }
    },
    {
      "cell_type": "markdown",
      "source": [
        "Existem diversos tipos de gráficos, para o nosso estudo, nos focaremos em **Histogramas** que são utilizados para dados que contenham um **rótulo** e um **valor**. Antes de tudo, é necessário importar a biblioteca **matplotlib** que possibilita a manipulação e criação dessas representações:"
      ],
      "metadata": {
        "id": "EqD28YRTrqn7"
      }
    },
    {
      "cell_type": "code",
      "source": [
        "import matplotlib.pyplot as plt   # Importa a biblioteca matplotlib\n",
        "frame2.hist()                        #Método para criar histogramas\n",
        "plt.show()                        #Comando do matplotlib para exibir o gráfico"
      ],
      "metadata": {
        "id": "J7Gu1pzWrtea"
      },
      "execution_count": null,
      "outputs": []
    },
    {
      "cell_type": "markdown",
      "source": [
        "Para criar o histograma de apenas uma coluna, utilizamos:"
      ],
      "metadata": {
        "id": "yNcvBuSsrxyr"
      }
    },
    {
      "cell_type": "code",
      "source": [
        "frame2['Ano'].hist()    #Cria um histograma da coluna rSDSS\n",
        "plt.show()            "
      ],
      "metadata": {
        "id": "NROm4Nn0r0nC"
      },
      "execution_count": null,
      "outputs": []
    },
    {
      "cell_type": "markdown",
      "source": [
        "Também podemos fazer um histograma da coluna **Ano** selecionando a quantidade de barras, refinando e melhorando o design do gráfico."
      ],
      "metadata": {
        "id": "3fe6eO0oFlG1"
      }
    },
    {
      "cell_type": "code",
      "source": [
        "frame2['Ano'].hist(bins=5) "
      ],
      "metadata": {
        "id": "Ljxe94jBFxrV"
      },
      "execution_count": null,
      "outputs": []
    },
    {
      "cell_type": "markdown",
      "source": [
        "###Correlação entre Dados"
      ],
      "metadata": {
        "id": "tms-I0nAr4DA"
      }
    },
    {
      "cell_type": "markdown",
      "source": [
        "A correlação é uma ferramenta estatística que ajuda a ter uma visão geral dos dados que possuem algo em comum."
      ],
      "metadata": {
        "id": "D5ubnqJxr7FU"
      }
    },
    {
      "cell_type": "code",
      "source": [
        "frame2.corr()   # Correlaciona todo o Data Frame"
      ],
      "metadata": {
        "id": "hunbIF3Gr-bS"
      },
      "execution_count": null,
      "outputs": []
    },
    {
      "cell_type": "code",
      "source": [
        "frame2['Ano'].corr(frame2['População'])   #Correlaciona colunas específicas, nesse caso, entre Ano e População"
      ],
      "metadata": {
        "id": "6y5SmUqTGJiR"
      },
      "execution_count": null,
      "outputs": []
    },
    {
      "cell_type": "markdown",
      "source": [
        "##Conclusão"
      ],
      "metadata": {
        "id": "5YC8yS7ZfwbB"
      }
    },
    {
      "cell_type": "markdown",
      "source": [
        "Esse notebook apresentou uma introdução sobre conceitos importantes de manipulação e organização de dados. Esses assuntos estão presentes em áreas da computação como: Data Science, Machine Learn, Análise de Sistemas, dentre muitos outros. Espero que tenha te ajudado a dar os primeiros passos e que estimule a sua criatividade e curiosidade durante o seu processo de aprendizado."
      ],
      "metadata": {
        "id": "x9fBQ2kCfyoz"
      }
    }
  ]
}